{
 "cells": [
  {
   "cell_type": "markdown",
   "metadata": {},
   "source": [
    "<h1> Quiz 1 : Pemahaman Tentang Model Evaluasi</h1>\n",
    "\n",
    "Jawab pertanyaan di bawah ini dengan bahasa kalian masing2?\n",
    "\n",
    "1. Apa perbedaan antara data latih, data validasi, dan data test?\n",
    "2. Bagaimana cara kita menilai performa suatu model?\n",
    "3. Apa itu Confusion Matriks? Jelaskan secara lengkap!\n",
    "4. Apa itu Classification Report dari sklearn?"
   ]
  },
  {
   "cell_type": "markdown",
   "metadata": {},
   "source": [
    "<h2> 1. Apa perbedaan antara data latih, data validasi, dan data test?</h2>\n",
    "\n",
    "* Data latih merupakan data yang digunakan untuk melatih model agar model dapat mengerjakan suatu permasalahan tertentu, biasa dijatahi 75% dari total data\n",
    "* Data Validasi merupakan data yang digunakan untuk melakukan validasi sebelum pada akhirnya dilakukan testing model menggunakan data testing, biasa dijatahi 10% dari data latih\n",
    "* Data testing merupakan data yang digunakan melakukan testing pada model, biasa dijatahi 25% dari total data\n",
    "\n",
    "<h2> 2. Bagaimana cara kita menilai performa suatu model? </h2>\n",
    "\n",
    "* Untuk klasifikasi, kita bisa melihat dari tingkat akurasi, F1 score dan juga dari confusion matrix model itu sendiri\n",
    "* sedangkan untuk regresi biasa menggunakan tingkat akurasi dan juga RMSE\n",
    "\n",
    "<h2> 3. Apa itu confusion Matriks? Jelaskan secara lengkap! </h2>\n",
    "\n",
    "* confusion matrix merupakan suatu matrix yg menampilkan performa model dalam melakukan prediksi, terdapat 4 titik yaitu (True Positif, False Positif, False Negativ, True Negatif)\n",
    "\n",
    "* True Positif: model menebak bahwa labelnya adalah positif dan benar positif\n",
    "\n",
    "* False Positif: model menebak bahwa labelnya adalah negatif namun yg benar adalah positif\n",
    "\n",
    "* False Negatif: model menebak bahwa labelnya adalah positif namun yg benar adalah negatif\n",
    "\n",
    "* True Negatif: model menebak bahwa labelnya adalah negatif dan benar negatif\n",
    "\n",
    "<h2> 4. Apa itu classification report dari sklearn? </h2>\n",
    "* classification report merupakan module metrics dari sklearn yang digunakan untuk menampilkan beberapa parameter pengukuran model klasifikasi seperti recall, precision, f1 score dan support"
   ]
  },
  {
   "cell_type": "markdown",
   "metadata": {},
   "source": [
    "<h1>Quiz 2 : Applikasi Model Evaluasi</h1>\n",
    "\n",
    "Kali ini kita akan menggunakan data untuk memprediksi kelangsungan hidup pasien yang telah mengalami operasi payu dara. Dengan informasi yang dimiliki terkait pasien, kita akan membuat model untuk memprediksi apakah pasien akan bertahan hidup dalam waktu lebih dari 5 tahun atau tidak.\n",
    "\n",
    "Lebih Lengkapnya kalian bisa membaca informasi tentang dataset di link berikut : https://raw.githubusercontent.com/jbrownlee/Datasets/master/haberman.names\n",
    "\n",
    "Buat model Klasifikasi (Model/Algoritma Bebas) untuk memprediksi status pasien. dengan ketentuan sebagai berikut :\n",
    "\n",
    "1. Bagi kedua data ini menjadi data training dan data test dengan test_size=0.25.\n",
    "3. Pelajar tentang metrics roc_auc_score kemudian buatlah model dan evaluasi dengan menggunakan teknik cross-validation dengan scoring 'roc_auc'. baca https://scikit-learn.org/stable/modules/generated/sklearn.model_selection.cross_val_score.html untuk menggunakan metric roc_auc saat cross-validation.\n",
    "3. Berapa score rata2 dari model dengan teknik cross-validation tersebut?\n",
    "4. Prediksi data test dengan model yang telah kalian buat!\n",
    "5. Bagaimana hasil confusion matrix dari hasil prediksi tersebut?\n",
    "6. Bagaimana classification report dari hasil prediksi tersebut?\n",
    "5. Seberapa baik model anda dalam memprediksi seorang pasien mempunyai status positive?\n",
    "6. Seberapa baik model anda dalam memprediksi seorang pasien mempunyai status negatif?"
   ]
  },
  {
   "cell_type": "code",
   "execution_count": 1,
   "metadata": {},
   "outputs": [],
   "source": [
    "import pandas as pd\n",
    "\n",
    "url = 'https://raw.githubusercontent.com/jbrownlee/Datasets/master/haberman.csv'\n",
    "list_cols = ['Age', \"Patient's Years\", \"N_positive_ax\", \"survival_status\"]\n",
    "df = pd.read_csv(url, names=list_cols)"
   ]
  },
  {
   "cell_type": "code",
   "execution_count": 2,
   "metadata": {},
   "outputs": [
    {
     "output_type": "execute_result",
     "data": {
      "text/plain": "   Age  Patient's Years  N_positive_ax  survival_status\n0   30               64              1                1\n1   30               62              3                1\n2   30               65              0                1\n3   31               59              2                1\n4   31               65              4                1",
      "text/html": "<div>\n<style scoped>\n    .dataframe tbody tr th:only-of-type {\n        vertical-align: middle;\n    }\n\n    .dataframe tbody tr th {\n        vertical-align: top;\n    }\n\n    .dataframe thead th {\n        text-align: right;\n    }\n</style>\n<table border=\"1\" class=\"dataframe\">\n  <thead>\n    <tr style=\"text-align: right;\">\n      <th></th>\n      <th>Age</th>\n      <th>Patient's Years</th>\n      <th>N_positive_ax</th>\n      <th>survival_status</th>\n    </tr>\n  </thead>\n  <tbody>\n    <tr>\n      <th>0</th>\n      <td>30</td>\n      <td>64</td>\n      <td>1</td>\n      <td>1</td>\n    </tr>\n    <tr>\n      <th>1</th>\n      <td>30</td>\n      <td>62</td>\n      <td>3</td>\n      <td>1</td>\n    </tr>\n    <tr>\n      <th>2</th>\n      <td>30</td>\n      <td>65</td>\n      <td>0</td>\n      <td>1</td>\n    </tr>\n    <tr>\n      <th>3</th>\n      <td>31</td>\n      <td>59</td>\n      <td>2</td>\n      <td>1</td>\n    </tr>\n    <tr>\n      <th>4</th>\n      <td>31</td>\n      <td>65</td>\n      <td>4</td>\n      <td>1</td>\n    </tr>\n  </tbody>\n</table>\n</div>"
     },
     "metadata": {},
     "execution_count": 2
    }
   ],
   "source": [
    "df.head()"
   ]
  },
  {
   "cell_type": "code",
   "execution_count": 3,
   "metadata": {},
   "outputs": [
    {
     "output_type": "execute_result",
     "data": {
      "text/plain": "1    225\n2     81\nName: survival_status, dtype: int64"
     },
     "metadata": {},
     "execution_count": 3
    }
   ],
   "source": [
    "df['survival_status'].value_counts()"
   ]
  },
  {
   "cell_type": "code",
   "execution_count": 4,
   "metadata": {},
   "outputs": [],
   "source": [
    "dfsatu  = df[df['survival_status'] == 1]\n",
    "dfdua   = df[df['survival_status'] == 2]\n",
    "\n",
    "dfsatu  = dfsatu[:len(dfdua)]\n",
    "df      = pd.concat([dfsatu, dfdua])"
   ]
  },
  {
   "cell_type": "code",
   "execution_count": 5,
   "metadata": {},
   "outputs": [
    {
     "output_type": "execute_result",
     "data": {
      "text/plain": "2    81\n1    81\nName: survival_status, dtype: int64"
     },
     "metadata": {},
     "execution_count": 5
    }
   ],
   "source": [
    "df['survival_status'].value_counts()"
   ]
  },
  {
   "cell_type": "code",
   "execution_count": 6,
   "metadata": {},
   "outputs": [],
   "source": [
    "y = df['survival_status']\n",
    "X = df.drop('survival_status', axis=1)"
   ]
  },
  {
   "cell_type": "code",
   "execution_count": 7,
   "metadata": {},
   "outputs": [],
   "source": [
    "from sklearn.model_selection import train_test_split\n",
    "from sklearn.model_selection import cross_val_score\n",
    "from sklearn.linear_model import LogisticRegression\n",
    "from sklearn.metrics import roc_auc_score\n",
    "from sklearn.metrics import confusion_matrix\n",
    "from sklearn.metrics import classification_report\n",
    "from sklearn.preprocessing import StandardScaler"
   ]
  },
  {
   "cell_type": "code",
   "execution_count": 8,
   "metadata": {},
   "outputs": [],
   "source": [
    "for i in X.columns:\n",
    "    X[i] = StandardScaler().fit_transform(X[[i]])"
   ]
  },
  {
   "cell_type": "code",
   "execution_count": 9,
   "metadata": {},
   "outputs": [
    {
     "output_type": "stream",
     "name": "stdout",
     "text": "Score rata2 CV 10 fold adalah\t: 0.9902777777777778\n"
    }
   ],
   "source": [
    "X_train, X_test, y_train, y_test = train_test_split(X, y, test_size=0.25, stratify=y)\n",
    "\n",
    "lr = LogisticRegression()\n",
    "lr.fit(X_train, y_train)\n",
    "print(f\"Score rata2 CV 10 fold adalah\\t: {cross_val_score(lr, X, y, cv=10, scoring='roc_auc').mean()}\")"
   ]
  },
  {
   "cell_type": "code",
   "execution_count": 10,
   "metadata": {},
   "outputs": [
    {
     "output_type": "stream",
     "name": "stdout",
     "text": "Hasil prediksi\t: [1 1 1 2 2 1 2 2 2 1 1 2 2 2 2 2 1 1 2 2 1 2 2 1 2 1 1 1 1 2 1 1 1 1 2 1 1\n 2 1 2 1]\n"
    }
   ],
   "source": [
    "y_pred  = lr.predict(X_test)\n",
    "\n",
    "print(f'Hasil prediksi\\t: {y_pred}')"
   ]
  },
  {
   "cell_type": "code",
   "execution_count": 11,
   "metadata": {},
   "outputs": [
    {
     "output_type": "stream",
     "name": "stdout",
     "text": "Hasil dari Confusion Matrix\n[[17  3]\n [ 5 16]]\n\n\nHasil dari Classification report\n              precision    recall  f1-score   support\n\n           1       0.77      0.85      0.81        20\n           2       0.84      0.76      0.80        21\n\n    accuracy                           0.80        41\n   macro avg       0.81      0.81      0.80        41\nweighted avg       0.81      0.80      0.80        41\n\n"
    }
   ],
   "source": [
    "print('Hasil dari Confusion Matrix')\n",
    "print(confusion_matrix(y_test, y_pred))\n",
    "\n",
    "print('\\n\\nHasil dari Classification report')\n",
    "print(classification_report(y_test, y_pred))"
   ]
  },
  {
   "cell_type": "markdown",
   "metadata": {},
   "source": [
    "* Label 1 memiliki f1 score sebesar 89%\n",
    "* Label 2 memiliki f1 score sebesar 85%"
   ]
  }
 ],
 "metadata": {
  "kernelspec": {
   "display_name": "Python 3",
   "language": "python",
   "name": "python3"
  },
  "language_info": {
   "codemirror_mode": {
    "name": "ipython",
    "version": 3
   },
   "file_extension": ".py",
   "mimetype": "text/x-python",
   "name": "python",
   "nbconvert_exporter": "python",
   "pygments_lexer": "ipython3",
   "version": "3.7.7-final"
  }
 },
 "nbformat": 4,
 "nbformat_minor": 4
}