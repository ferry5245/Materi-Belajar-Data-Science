{
 "cells": [
  {
   "cell_type": "markdown",
   "metadata": {},
   "source": [
    "<h1> Quiz 1 Pemahaman tentang Model Selection</h1>\n",
    "\n",
    "Jelaskan dengan bahasa kalian sendiri\n",
    "\n",
    "1. Apa itu Bias dan Variance?\n",
    "2. Apa itu Overfitting dan Underfitting?\n",
    "3. Apa yang bisa kita lakukan untuk mengatur kompleksitas dari model?\n",
    "4. Bagaimana model yang baik?\n",
    "5. Kapan kira2 kita menggunakan GridSearchcv dan kapan menggunakan RandomizedSearchCV?"
   ]
  },
  {
   "cell_type": "markdown",
   "metadata": {},
   "source": [
    "<h1> Quiz 2 Praktis Model Selection</h1>\n",
    "\n",
    "1. Bagi kedua data ini menjadi data training dan data test dengan test_size=0.25.\n",
    "2. Gunakan algoritma KNN sebagai model classifier.\n",
    "3. Gunakan fungsi GridSearchCV untuk hyperparameter tuning dan model selection.\n",
    "4. jumlah fold bebas!, gunakan scoring 'roc_auc'\n",
    "5. Definisikan kombinasi hyperparameter untuk model selection dengan GridSearchCV. kombinasi Hyperparameter bebas, baca lagi dokumentasi KNN di link berikut https://scikit-learn.org/stable/modules/generated/sklearn.neighbors.KNeighborsClassifier.html untuk memahami lagi jenis2 hyperparameter di algorithma KNN.\n",
    "6. Latih model terhadap data training.\n",
    "7. Apa hyperparameter terbaik untuk kombinasi hyperparameter kalian?\n",
    "8. Berapa score validasi terbaik dari model tersebut?\n",
    "9. Prediksi probabilitasi output dari model yang telah di buat terhadap data test. note : gunakan method .predict_proba() untuk menghasilkan output probabilitas\n",
    "10. Perhatikan bahwa hasil prediksi ada 2, dimana masing2 adalah nilai probabilitas untuk setiap class label. Ambil nilai probabilitas pasien phositive meninggal dalam waktu kurang dari 5 tahun. note : gunakan bantuan attirubte .classes_ untuk mengetahui urutan label dari hasil prediksi probabilitas.\n",
    "11. Berapa nilai score roc_auc untuk data test?\n",
    "12. Apakah model anda termasuk baik atau overtting atau underfitting?\n",
    "13. Ulangi tahap di atas namun kali ini menggunakan algoritma DecisionTreeClassifier dan kalian bisa menggunakan RandomizedSearchCV apabila process training lama. pelajari algoritma DecisionTreeClassifier di linkberikut : https://scikit-learn.org/stable/modules/generated/sklearn.tree.DecisionTreeClassifier.html?highlight=decisiontreeclassifier#sklearn.tree.DecisionTreeClassifier\n",
    "14. Bandingkan scorenya dengan Algoritma KNN, mana yang lebih baik?\n",
    "\n",
    "Note : Data Science adalah experiment, sangat di dimungkinkan memerlukan beberapa kali percobaan untuk mendapatkan hasil yang terbaik! Happy Coding :)"
   ]
  },
  {
   "cell_type": "code",
   "execution_count": 1,
   "metadata": {},
   "outputs": [],
   "source": [
    "import pandas as pd\n",
    "\n",
    "url = 'https://raw.githubusercontent.com/jbrownlee/Datasets/master/haberman.csv'\n",
    "list_cols = ['Age', \"Patient's Years\", \"N_positive_ax\", \"survival_status\"]\n",
    "df = pd.read_csv(url, names=list_cols)"
   ]
  },
  {
   "cell_type": "code",
   "execution_count": 2,
   "metadata": {},
   "outputs": [
    {
     "output_type": "execute_result",
     "data": {
      "text/plain": "   Age  Patient's Years  N_positive_ax  survival_status\n0   30               64              1                1\n1   30               62              3                1\n2   30               65              0                1\n3   31               59              2                1\n4   31               65              4                1",
      "text/html": "<div>\n<style scoped>\n    .dataframe tbody tr th:only-of-type {\n        vertical-align: middle;\n    }\n\n    .dataframe tbody tr th {\n        vertical-align: top;\n    }\n\n    .dataframe thead th {\n        text-align: right;\n    }\n</style>\n<table border=\"1\" class=\"dataframe\">\n  <thead>\n    <tr style=\"text-align: right;\">\n      <th></th>\n      <th>Age</th>\n      <th>Patient's Years</th>\n      <th>N_positive_ax</th>\n      <th>survival_status</th>\n    </tr>\n  </thead>\n  <tbody>\n    <tr>\n      <th>0</th>\n      <td>30</td>\n      <td>64</td>\n      <td>1</td>\n      <td>1</td>\n    </tr>\n    <tr>\n      <th>1</th>\n      <td>30</td>\n      <td>62</td>\n      <td>3</td>\n      <td>1</td>\n    </tr>\n    <tr>\n      <th>2</th>\n      <td>30</td>\n      <td>65</td>\n      <td>0</td>\n      <td>1</td>\n    </tr>\n    <tr>\n      <th>3</th>\n      <td>31</td>\n      <td>59</td>\n      <td>2</td>\n      <td>1</td>\n    </tr>\n    <tr>\n      <th>4</th>\n      <td>31</td>\n      <td>65</td>\n      <td>4</td>\n      <td>1</td>\n    </tr>\n  </tbody>\n</table>\n</div>"
     },
     "metadata": {},
     "execution_count": 2
    }
   ],
   "source": [
    "df.head()"
   ]
  },
  {
   "cell_type": "code",
   "execution_count": 30,
   "metadata": {},
   "outputs": [],
   "source": [
    "from sklearn.metrics import classification_report\n",
    "from sklearn.model_selection import train_test_split\n",
    "from sklearn.model_selection import cross_val_score\n",
    "from sklearn.neighbors import KNeighborsClassifier\n",
    "from sklearn.tree import DecisionTreeClassifier\n",
    "from sklearn.model_selection import GridSearchCV\n",
    "from sklearn.model_selection import RandomizedSearchCV\n",
    "from sklearn.preprocessing import StandardScaler\n",
    "from sklearn.metrics import accuracy_score\n",
    "from matplotlib import pyplot as plt\n",
    "import seaborn as sns"
   ]
  },
  {
   "cell_type": "code",
   "execution_count": 4,
   "metadata": {},
   "outputs": [
    {
     "output_type": "execute_result",
     "data": {
      "text/plain": "1    225\n2     81\nName: survival_status, dtype: int64"
     },
     "metadata": {},
     "execution_count": 4
    }
   ],
   "source": [
    "df['survival_status'].value_counts()"
   ]
  },
  {
   "cell_type": "code",
   "execution_count": 5,
   "metadata": {},
   "outputs": [
    {
     "output_type": "execute_result",
     "data": {
      "text/plain": "0      1\n1      1\n2      1\n3      1\n4      1\n      ..\n301    1\n302    1\n303    1\n304    2\n305    2\nName: survival_status, Length: 306, dtype: int64"
     },
     "metadata": {},
     "execution_count": 5
    }
   ],
   "source": [
    "df['survival_status']"
   ]
  },
  {
   "cell_type": "code",
   "execution_count": 6,
   "metadata": {},
   "outputs": [
    {
     "output_type": "display_data",
     "data": {
      "text/plain": "<Figure size 720x360 with 1 Axes>",
      "image/svg+xml": "<?xml version=\"1.0\" encoding=\"utf-8\" standalone=\"no\"?>\r\n<!DOCTYPE svg PUBLIC \"-//W3C//DTD SVG 1.1//EN\"\r\n  \"http://www.w3.org/Graphics/SVG/1.1/DTD/svg11.dtd\">\r\n<!-- Created with matplotlib (https://matplotlib.org/) -->\r\n<svg height=\"333.776125pt\" version=\"1.1\" viewBox=\"0 0 612.165625 333.776125\" width=\"612.165625pt\" xmlns=\"http://www.w3.org/2000/svg\" xmlns:xlink=\"http://www.w3.org/1999/xlink\">\r\n <defs>\r\n  <style type=\"text/css\">\r\n*{stroke-linecap:butt;stroke-linejoin:round;}\r\n  </style>\r\n </defs>\r\n <g id=\"figure_1\">\r\n  <g id=\"patch_1\">\r\n   <path d=\"M 0 333.776125 \r\nL 612.165625 333.776125 \r\nL 612.165625 0 \r\nL 0 0 \r\nz\r\n\" style=\"fill:none;\"/>\r\n  </g>\r\n  <g id=\"axes_1\">\r\n   <g id=\"patch_2\">\r\n    <path d=\"M 46.965625 295.94175 \r\nL 604.965625 295.94175 \r\nL 604.965625 24.14175 \r\nL 46.965625 24.14175 \r\nz\r\n\" style=\"fill:#ffffff;\"/>\r\n   </g>\r\n   <g id=\"patch_3\">\r\n    <path clip-path=\"url(#p7e6ea58f15)\" d=\"M 74.865625 295.94175 \r\nL 298.065625 295.94175 \r\nL 298.065625 37.084607 \r\nL 74.865625 37.084607 \r\nz\r\n\" style=\"fill:#cc5a49;\"/>\r\n   </g>\r\n   <g id=\"patch_4\">\r\n    <path clip-path=\"url(#p7e6ea58f15)\" d=\"M 353.865625 295.94175 \r\nL 577.065625 295.94175 \r\nL 577.065625 202.753179 \r\nL 353.865625 202.753179 \r\nz\r\n\" style=\"fill:#4586ac;\"/>\r\n   </g>\r\n   <g id=\"matplotlib.axis_1\">\r\n    <g id=\"xtick_1\">\r\n     <g id=\"line2d_1\">\r\n      <defs>\r\n       <path d=\"M 0 0 \r\nL 0 3.5 \r\n\" id=\"ma13acf9b21\" style=\"stroke:#000000;stroke-width:0.8;\"/>\r\n      </defs>\r\n      <g>\r\n       <use style=\"stroke:#000000;stroke-width:0.8;\" x=\"186.465625\" xlink:href=\"#ma13acf9b21\" y=\"295.94175\"/>\r\n      </g>\r\n     </g>\r\n     <g id=\"text_1\">\r\n      <!-- 1 -->\r\n      <defs>\r\n       <path d=\"M 12.40625 8.296875 \r\nL 28.515625 8.296875 \r\nL 28.515625 63.921875 \r\nL 10.984375 60.40625 \r\nL 10.984375 69.390625 \r\nL 28.421875 72.90625 \r\nL 38.28125 72.90625 \r\nL 38.28125 8.296875 \r\nL 54.390625 8.296875 \r\nL 54.390625 0 \r\nL 12.40625 0 \r\nz\r\n\" id=\"DejaVuSans-49\"/>\r\n      </defs>\r\n      <g transform=\"translate(183.284375 310.540188)scale(0.1 -0.1)\">\r\n       <use xlink:href=\"#DejaVuSans-49\"/>\r\n      </g>\r\n     </g>\r\n    </g>\r\n    <g id=\"xtick_2\">\r\n     <g id=\"line2d_2\">\r\n      <g>\r\n       <use style=\"stroke:#000000;stroke-width:0.8;\" x=\"465.465625\" xlink:href=\"#ma13acf9b21\" y=\"295.94175\"/>\r\n      </g>\r\n     </g>\r\n     <g id=\"text_2\">\r\n      <!-- 2 -->\r\n      <defs>\r\n       <path d=\"M 19.1875 8.296875 \r\nL 53.609375 8.296875 \r\nL 53.609375 0 \r\nL 7.328125 0 \r\nL 7.328125 8.296875 \r\nQ 12.9375 14.109375 22.625 23.890625 \r\nQ 32.328125 33.6875 34.8125 36.53125 \r\nQ 39.546875 41.84375 41.421875 45.53125 \r\nQ 43.3125 49.21875 43.3125 52.78125 \r\nQ 43.3125 58.59375 39.234375 62.25 \r\nQ 35.15625 65.921875 28.609375 65.921875 \r\nQ 23.96875 65.921875 18.8125 64.3125 \r\nQ 13.671875 62.703125 7.8125 59.421875 \r\nL 7.8125 69.390625 \r\nQ 13.765625 71.78125 18.9375 73 \r\nQ 24.125 74.21875 28.421875 74.21875 \r\nQ 39.75 74.21875 46.484375 68.546875 \r\nQ 53.21875 62.890625 53.21875 53.421875 \r\nQ 53.21875 48.921875 51.53125 44.890625 \r\nQ 49.859375 40.875 45.40625 35.40625 \r\nQ 44.1875 33.984375 37.640625 27.21875 \r\nQ 31.109375 20.453125 19.1875 8.296875 \r\nz\r\n\" id=\"DejaVuSans-50\"/>\r\n      </defs>\r\n      <g transform=\"translate(462.284375 310.540188)scale(0.1 -0.1)\">\r\n       <use xlink:href=\"#DejaVuSans-50\"/>\r\n      </g>\r\n     </g>\r\n    </g>\r\n    <g id=\"text_3\">\r\n     <!-- survival_status -->\r\n     <defs>\r\n      <path d=\"M 44.28125 53.078125 \r\nL 44.28125 44.578125 \r\nQ 40.484375 46.53125 36.375 47.5 \r\nQ 32.28125 48.484375 27.875 48.484375 \r\nQ 21.1875 48.484375 17.84375 46.4375 \r\nQ 14.5 44.390625 14.5 40.28125 \r\nQ 14.5 37.15625 16.890625 35.375 \r\nQ 19.28125 33.59375 26.515625 31.984375 \r\nL 29.59375 31.296875 \r\nQ 39.15625 29.25 43.1875 25.515625 \r\nQ 47.21875 21.78125 47.21875 15.09375 \r\nQ 47.21875 7.46875 41.1875 3.015625 \r\nQ 35.15625 -1.421875 24.609375 -1.421875 \r\nQ 20.21875 -1.421875 15.453125 -0.5625 \r\nQ 10.6875 0.296875 5.421875 2 \r\nL 5.421875 11.28125 \r\nQ 10.40625 8.6875 15.234375 7.390625 \r\nQ 20.0625 6.109375 24.8125 6.109375 \r\nQ 31.15625 6.109375 34.5625 8.28125 \r\nQ 37.984375 10.453125 37.984375 14.40625 \r\nQ 37.984375 18.0625 35.515625 20.015625 \r\nQ 33.0625 21.96875 24.703125 23.78125 \r\nL 21.578125 24.515625 \r\nQ 13.234375 26.265625 9.515625 29.90625 \r\nQ 5.8125 33.546875 5.8125 39.890625 \r\nQ 5.8125 47.609375 11.28125 51.796875 \r\nQ 16.75 56 26.8125 56 \r\nQ 31.78125 56 36.171875 55.265625 \r\nQ 40.578125 54.546875 44.28125 53.078125 \r\nz\r\n\" id=\"DejaVuSans-115\"/>\r\n      <path d=\"M 8.5 21.578125 \r\nL 8.5 54.6875 \r\nL 17.484375 54.6875 \r\nL 17.484375 21.921875 \r\nQ 17.484375 14.15625 20.5 10.265625 \r\nQ 23.53125 6.390625 29.59375 6.390625 \r\nQ 36.859375 6.390625 41.078125 11.03125 \r\nQ 45.3125 15.671875 45.3125 23.6875 \r\nL 45.3125 54.6875 \r\nL 54.296875 54.6875 \r\nL 54.296875 0 \r\nL 45.3125 0 \r\nL 45.3125 8.40625 \r\nQ 42.046875 3.421875 37.71875 1 \r\nQ 33.40625 -1.421875 27.6875 -1.421875 \r\nQ 18.265625 -1.421875 13.375 4.4375 \r\nQ 8.5 10.296875 8.5 21.578125 \r\nz\r\nM 31.109375 56 \r\nz\r\n\" id=\"DejaVuSans-117\"/>\r\n      <path d=\"M 41.109375 46.296875 \r\nQ 39.59375 47.171875 37.8125 47.578125 \r\nQ 36.03125 48 33.890625 48 \r\nQ 26.265625 48 22.1875 43.046875 \r\nQ 18.109375 38.09375 18.109375 28.8125 \r\nL 18.109375 0 \r\nL 9.078125 0 \r\nL 9.078125 54.6875 \r\nL 18.109375 54.6875 \r\nL 18.109375 46.1875 \r\nQ 20.953125 51.171875 25.484375 53.578125 \r\nQ 30.03125 56 36.53125 56 \r\nQ 37.453125 56 38.578125 55.875 \r\nQ 39.703125 55.765625 41.0625 55.515625 \r\nz\r\n\" id=\"DejaVuSans-114\"/>\r\n      <path d=\"M 2.984375 54.6875 \r\nL 12.5 54.6875 \r\nL 29.59375 8.796875 \r\nL 46.6875 54.6875 \r\nL 56.203125 54.6875 \r\nL 35.6875 0 \r\nL 23.484375 0 \r\nz\r\n\" id=\"DejaVuSans-118\"/>\r\n      <path d=\"M 9.421875 54.6875 \r\nL 18.40625 54.6875 \r\nL 18.40625 0 \r\nL 9.421875 0 \r\nz\r\nM 9.421875 75.984375 \r\nL 18.40625 75.984375 \r\nL 18.40625 64.59375 \r\nL 9.421875 64.59375 \r\nz\r\n\" id=\"DejaVuSans-105\"/>\r\n      <path d=\"M 34.28125 27.484375 \r\nQ 23.390625 27.484375 19.1875 25 \r\nQ 14.984375 22.515625 14.984375 16.5 \r\nQ 14.984375 11.71875 18.140625 8.90625 \r\nQ 21.296875 6.109375 26.703125 6.109375 \r\nQ 34.1875 6.109375 38.703125 11.40625 \r\nQ 43.21875 16.703125 43.21875 25.484375 \r\nL 43.21875 27.484375 \r\nz\r\nM 52.203125 31.203125 \r\nL 52.203125 0 \r\nL 43.21875 0 \r\nL 43.21875 8.296875 \r\nQ 40.140625 3.328125 35.546875 0.953125 \r\nQ 30.953125 -1.421875 24.3125 -1.421875 \r\nQ 15.921875 -1.421875 10.953125 3.296875 \r\nQ 6 8.015625 6 15.921875 \r\nQ 6 25.140625 12.171875 29.828125 \r\nQ 18.359375 34.515625 30.609375 34.515625 \r\nL 43.21875 34.515625 \r\nL 43.21875 35.40625 \r\nQ 43.21875 41.609375 39.140625 45 \r\nQ 35.0625 48.390625 27.6875 48.390625 \r\nQ 23 48.390625 18.546875 47.265625 \r\nQ 14.109375 46.140625 10.015625 43.890625 \r\nL 10.015625 52.203125 \r\nQ 14.9375 54.109375 19.578125 55.046875 \r\nQ 24.21875 56 28.609375 56 \r\nQ 40.484375 56 46.34375 49.84375 \r\nQ 52.203125 43.703125 52.203125 31.203125 \r\nz\r\n\" id=\"DejaVuSans-97\"/>\r\n      <path d=\"M 9.421875 75.984375 \r\nL 18.40625 75.984375 \r\nL 18.40625 0 \r\nL 9.421875 0 \r\nz\r\n\" id=\"DejaVuSans-108\"/>\r\n      <path d=\"M 50.984375 -16.609375 \r\nL 50.984375 -23.578125 \r\nL -0.984375 -23.578125 \r\nL -0.984375 -16.609375 \r\nz\r\n\" id=\"DejaVuSans-95\"/>\r\n      <path d=\"M 18.3125 70.21875 \r\nL 18.3125 54.6875 \r\nL 36.8125 54.6875 \r\nL 36.8125 47.703125 \r\nL 18.3125 47.703125 \r\nL 18.3125 18.015625 \r\nQ 18.3125 11.328125 20.140625 9.421875 \r\nQ 21.96875 7.515625 27.59375 7.515625 \r\nL 36.8125 7.515625 \r\nL 36.8125 0 \r\nL 27.59375 0 \r\nQ 17.1875 0 13.234375 3.875 \r\nQ 9.28125 7.765625 9.28125 18.015625 \r\nL 9.28125 47.703125 \r\nL 2.6875 47.703125 \r\nL 2.6875 54.6875 \r\nL 9.28125 54.6875 \r\nL 9.28125 70.21875 \r\nz\r\n\" id=\"DejaVuSans-116\"/>\r\n     </defs>\r\n     <g transform=\"translate(288.513281 324.218312)scale(0.1 -0.1)\">\r\n      <use xlink:href=\"#DejaVuSans-115\"/>\r\n      <use x=\"52.099609\" xlink:href=\"#DejaVuSans-117\"/>\r\n      <use x=\"115.478516\" xlink:href=\"#DejaVuSans-114\"/>\r\n      <use x=\"156.591797\" xlink:href=\"#DejaVuSans-118\"/>\r\n      <use x=\"215.771484\" xlink:href=\"#DejaVuSans-105\"/>\r\n      <use x=\"243.554688\" xlink:href=\"#DejaVuSans-118\"/>\r\n      <use x=\"302.734375\" xlink:href=\"#DejaVuSans-97\"/>\r\n      <use x=\"364.013672\" xlink:href=\"#DejaVuSans-108\"/>\r\n      <use x=\"391.796875\" xlink:href=\"#DejaVuSans-95\"/>\r\n      <use x=\"441.796875\" xlink:href=\"#DejaVuSans-115\"/>\r\n      <use x=\"493.896484\" xlink:href=\"#DejaVuSans-116\"/>\r\n      <use x=\"533.105469\" xlink:href=\"#DejaVuSans-97\"/>\r\n      <use x=\"594.384766\" xlink:href=\"#DejaVuSans-116\"/>\r\n      <use x=\"633.59375\" xlink:href=\"#DejaVuSans-117\"/>\r\n      <use x=\"696.972656\" xlink:href=\"#DejaVuSans-115\"/>\r\n     </g>\r\n    </g>\r\n   </g>\r\n   <g id=\"matplotlib.axis_2\">\r\n    <g id=\"ytick_1\">\r\n     <g id=\"line2d_3\">\r\n      <defs>\r\n       <path d=\"M 0 0 \r\nL -3.5 0 \r\n\" id=\"m94120795dc\" style=\"stroke:#000000;stroke-width:0.8;\"/>\r\n      </defs>\r\n      <g>\r\n       <use style=\"stroke:#000000;stroke-width:0.8;\" x=\"46.965625\" xlink:href=\"#m94120795dc\" y=\"295.94175\"/>\r\n      </g>\r\n     </g>\r\n     <g id=\"text_4\">\r\n      <!-- 0 -->\r\n      <defs>\r\n       <path d=\"M 31.78125 66.40625 \r\nQ 24.171875 66.40625 20.328125 58.90625 \r\nQ 16.5 51.421875 16.5 36.375 \r\nQ 16.5 21.390625 20.328125 13.890625 \r\nQ 24.171875 6.390625 31.78125 6.390625 \r\nQ 39.453125 6.390625 43.28125 13.890625 \r\nQ 47.125 21.390625 47.125 36.375 \r\nQ 47.125 51.421875 43.28125 58.90625 \r\nQ 39.453125 66.40625 31.78125 66.40625 \r\nz\r\nM 31.78125 74.21875 \r\nQ 44.046875 74.21875 50.515625 64.515625 \r\nQ 56.984375 54.828125 56.984375 36.375 \r\nQ 56.984375 17.96875 50.515625 8.265625 \r\nQ 44.046875 -1.421875 31.78125 -1.421875 \r\nQ 19.53125 -1.421875 13.0625 8.265625 \r\nQ 6.59375 17.96875 6.59375 36.375 \r\nQ 6.59375 54.828125 13.0625 64.515625 \r\nQ 19.53125 74.21875 31.78125 74.21875 \r\nz\r\n\" id=\"DejaVuSans-48\"/>\r\n      </defs>\r\n      <g transform=\"translate(33.603125 299.740969)scale(0.1 -0.1)\">\r\n       <use xlink:href=\"#DejaVuSans-48\"/>\r\n      </g>\r\n     </g>\r\n    </g>\r\n    <g id=\"ytick_2\">\r\n     <g id=\"line2d_4\">\r\n      <g>\r\n       <use style=\"stroke:#000000;stroke-width:0.8;\" x=\"46.965625\" xlink:href=\"#m94120795dc\" y=\"238.41794\"/>\r\n      </g>\r\n     </g>\r\n     <g id=\"text_5\">\r\n      <!-- 50 -->\r\n      <defs>\r\n       <path d=\"M 10.796875 72.90625 \r\nL 49.515625 72.90625 \r\nL 49.515625 64.59375 \r\nL 19.828125 64.59375 \r\nL 19.828125 46.734375 \r\nQ 21.96875 47.46875 24.109375 47.828125 \r\nQ 26.265625 48.1875 28.421875 48.1875 \r\nQ 40.625 48.1875 47.75 41.5 \r\nQ 54.890625 34.8125 54.890625 23.390625 \r\nQ 54.890625 11.625 47.5625 5.09375 \r\nQ 40.234375 -1.421875 26.90625 -1.421875 \r\nQ 22.3125 -1.421875 17.546875 -0.640625 \r\nQ 12.796875 0.140625 7.71875 1.703125 \r\nL 7.71875 11.625 \r\nQ 12.109375 9.234375 16.796875 8.0625 \r\nQ 21.484375 6.890625 26.703125 6.890625 \r\nQ 35.15625 6.890625 40.078125 11.328125 \r\nQ 45.015625 15.765625 45.015625 23.390625 \r\nQ 45.015625 31 40.078125 35.4375 \r\nQ 35.15625 39.890625 26.703125 39.890625 \r\nQ 22.75 39.890625 18.8125 39.015625 \r\nQ 14.890625 38.140625 10.796875 36.28125 \r\nz\r\n\" id=\"DejaVuSans-53\"/>\r\n      </defs>\r\n      <g transform=\"translate(27.240625 242.217159)scale(0.1 -0.1)\">\r\n       <use xlink:href=\"#DejaVuSans-53\"/>\r\n       <use x=\"63.623047\" xlink:href=\"#DejaVuSans-48\"/>\r\n      </g>\r\n     </g>\r\n    </g>\r\n    <g id=\"ytick_3\">\r\n     <g id=\"line2d_5\">\r\n      <g>\r\n       <use style=\"stroke:#000000;stroke-width:0.8;\" x=\"46.965625\" xlink:href=\"#m94120795dc\" y=\"180.894131\"/>\r\n      </g>\r\n     </g>\r\n     <g id=\"text_6\">\r\n      <!-- 100 -->\r\n      <g transform=\"translate(20.878125 184.69335)scale(0.1 -0.1)\">\r\n       <use xlink:href=\"#DejaVuSans-49\"/>\r\n       <use x=\"63.623047\" xlink:href=\"#DejaVuSans-48\"/>\r\n       <use x=\"127.246094\" xlink:href=\"#DejaVuSans-48\"/>\r\n      </g>\r\n     </g>\r\n    </g>\r\n    <g id=\"ytick_4\">\r\n     <g id=\"line2d_6\">\r\n      <g>\r\n       <use style=\"stroke:#000000;stroke-width:0.8;\" x=\"46.965625\" xlink:href=\"#m94120795dc\" y=\"123.370321\"/>\r\n      </g>\r\n     </g>\r\n     <g id=\"text_7\">\r\n      <!-- 150 -->\r\n      <g transform=\"translate(20.878125 127.16954)scale(0.1 -0.1)\">\r\n       <use xlink:href=\"#DejaVuSans-49\"/>\r\n       <use x=\"63.623047\" xlink:href=\"#DejaVuSans-53\"/>\r\n       <use x=\"127.246094\" xlink:href=\"#DejaVuSans-48\"/>\r\n      </g>\r\n     </g>\r\n    </g>\r\n    <g id=\"ytick_5\">\r\n     <g id=\"line2d_7\">\r\n      <g>\r\n       <use style=\"stroke:#000000;stroke-width:0.8;\" x=\"46.965625\" xlink:href=\"#m94120795dc\" y=\"65.846512\"/>\r\n      </g>\r\n     </g>\r\n     <g id=\"text_8\">\r\n      <!-- 200 -->\r\n      <g transform=\"translate(20.878125 69.645731)scale(0.1 -0.1)\">\r\n       <use xlink:href=\"#DejaVuSans-50\"/>\r\n       <use x=\"63.623047\" xlink:href=\"#DejaVuSans-48\"/>\r\n       <use x=\"127.246094\" xlink:href=\"#DejaVuSans-48\"/>\r\n      </g>\r\n     </g>\r\n    </g>\r\n    <g id=\"text_9\">\r\n     <!-- count -->\r\n     <defs>\r\n      <path d=\"M 48.78125 52.59375 \r\nL 48.78125 44.1875 \r\nQ 44.96875 46.296875 41.140625 47.34375 \r\nQ 37.3125 48.390625 33.40625 48.390625 \r\nQ 24.65625 48.390625 19.8125 42.84375 \r\nQ 14.984375 37.3125 14.984375 27.296875 \r\nQ 14.984375 17.28125 19.8125 11.734375 \r\nQ 24.65625 6.203125 33.40625 6.203125 \r\nQ 37.3125 6.203125 41.140625 7.25 \r\nQ 44.96875 8.296875 48.78125 10.40625 \r\nL 48.78125 2.09375 \r\nQ 45.015625 0.34375 40.984375 -0.53125 \r\nQ 36.96875 -1.421875 32.421875 -1.421875 \r\nQ 20.0625 -1.421875 12.78125 6.34375 \r\nQ 5.515625 14.109375 5.515625 27.296875 \r\nQ 5.515625 40.671875 12.859375 48.328125 \r\nQ 20.21875 56 33.015625 56 \r\nQ 37.15625 56 41.109375 55.140625 \r\nQ 45.0625 54.296875 48.78125 52.59375 \r\nz\r\n\" id=\"DejaVuSans-99\"/>\r\n      <path d=\"M 30.609375 48.390625 \r\nQ 23.390625 48.390625 19.1875 42.75 \r\nQ 14.984375 37.109375 14.984375 27.296875 \r\nQ 14.984375 17.484375 19.15625 11.84375 \r\nQ 23.34375 6.203125 30.609375 6.203125 \r\nQ 37.796875 6.203125 41.984375 11.859375 \r\nQ 46.1875 17.53125 46.1875 27.296875 \r\nQ 46.1875 37.015625 41.984375 42.703125 \r\nQ 37.796875 48.390625 30.609375 48.390625 \r\nz\r\nM 30.609375 56 \r\nQ 42.328125 56 49.015625 48.375 \r\nQ 55.71875 40.765625 55.71875 27.296875 \r\nQ 55.71875 13.875 49.015625 6.21875 \r\nQ 42.328125 -1.421875 30.609375 -1.421875 \r\nQ 18.84375 -1.421875 12.171875 6.21875 \r\nQ 5.515625 13.875 5.515625 27.296875 \r\nQ 5.515625 40.765625 12.171875 48.375 \r\nQ 18.84375 56 30.609375 56 \r\nz\r\n\" id=\"DejaVuSans-111\"/>\r\n      <path d=\"M 54.890625 33.015625 \r\nL 54.890625 0 \r\nL 45.90625 0 \r\nL 45.90625 32.71875 \r\nQ 45.90625 40.484375 42.875 44.328125 \r\nQ 39.84375 48.1875 33.796875 48.1875 \r\nQ 26.515625 48.1875 22.3125 43.546875 \r\nQ 18.109375 38.921875 18.109375 30.90625 \r\nL 18.109375 0 \r\nL 9.078125 0 \r\nL 9.078125 54.6875 \r\nL 18.109375 54.6875 \r\nL 18.109375 46.1875 \r\nQ 21.34375 51.125 25.703125 53.5625 \r\nQ 30.078125 56 35.796875 56 \r\nQ 45.21875 56 50.046875 50.171875 \r\nQ 54.890625 44.34375 54.890625 33.015625 \r\nz\r\n\" id=\"DejaVuSans-110\"/>\r\n     </defs>\r\n     <g transform=\"translate(14.798438 174.148)rotate(-90)scale(0.1 -0.1)\">\r\n      <use xlink:href=\"#DejaVuSans-99\"/>\r\n      <use x=\"54.980469\" xlink:href=\"#DejaVuSans-111\"/>\r\n      <use x=\"116.162109\" xlink:href=\"#DejaVuSans-117\"/>\r\n      <use x=\"179.541016\" xlink:href=\"#DejaVuSans-110\"/>\r\n      <use x=\"242.919922\" xlink:href=\"#DejaVuSans-116\"/>\r\n     </g>\r\n    </g>\r\n   </g>\r\n   <g id=\"patch_5\">\r\n    <path d=\"M 46.965625 295.94175 \r\nL 46.965625 24.14175 \r\n\" style=\"fill:none;stroke:#000000;stroke-linecap:square;stroke-linejoin:miter;stroke-width:0.8;\"/>\r\n   </g>\r\n   <g id=\"patch_6\">\r\n    <path d=\"M 604.965625 295.94175 \r\nL 604.965625 24.14175 \r\n\" style=\"fill:none;stroke:#000000;stroke-linecap:square;stroke-linejoin:miter;stroke-width:0.8;\"/>\r\n   </g>\r\n   <g id=\"patch_7\">\r\n    <path d=\"M 46.965625 295.94175 \r\nL 604.965625 295.94175 \r\n\" style=\"fill:none;stroke:#000000;stroke-linecap:square;stroke-linejoin:miter;stroke-width:0.8;\"/>\r\n   </g>\r\n   <g id=\"patch_8\">\r\n    <path d=\"M 46.965625 24.14175 \r\nL 604.965625 24.14175 \r\n\" style=\"fill:none;stroke:#000000;stroke-linecap:square;stroke-linejoin:miter;stroke-width:0.8;\"/>\r\n   </g>\r\n   <g id=\"text_10\">\r\n    <!-- SURVIVAL STATUS -->\r\n    <defs>\r\n     <path d=\"M 59.90625 70.609375 \r\nL 59.90625 55.171875 \r\nQ 53.90625 57.859375 48.1875 59.21875 \r\nQ 42.484375 60.59375 37.40625 60.59375 \r\nQ 30.671875 60.59375 27.4375 58.734375 \r\nQ 24.21875 56.890625 24.21875 52.984375 \r\nQ 24.21875 50.046875 26.390625 48.40625 \r\nQ 28.5625 46.78125 34.28125 45.609375 \r\nL 42.28125 44 \r\nQ 54.4375 41.546875 59.5625 36.5625 \r\nQ 64.703125 31.59375 64.703125 22.40625 \r\nQ 64.703125 10.359375 57.546875 4.46875 \r\nQ 50.390625 -1.421875 35.6875 -1.421875 \r\nQ 28.765625 -1.421875 21.78125 -0.09375 \r\nQ 14.796875 1.21875 7.8125 3.8125 \r\nL 7.8125 19.671875 \r\nQ 14.796875 15.96875 21.3125 14.078125 \r\nQ 27.828125 12.203125 33.890625 12.203125 \r\nQ 40.046875 12.203125 43.3125 14.25 \r\nQ 46.578125 16.3125 46.578125 20.125 \r\nQ 46.578125 23.53125 44.359375 25.390625 \r\nQ 42.140625 27.25 35.5 28.71875 \r\nL 28.21875 30.328125 \r\nQ 17.28125 32.671875 12.21875 37.796875 \r\nQ 7.171875 42.921875 7.171875 51.609375 \r\nQ 7.171875 62.5 14.203125 68.359375 \r\nQ 21.234375 74.21875 34.421875 74.21875 \r\nQ 40.4375 74.21875 46.78125 73.3125 \r\nQ 53.125 72.40625 59.90625 70.609375 \r\nz\r\n\" id=\"DejaVuSans-Bold-83\"/>\r\n     <path d=\"M 9.1875 72.90625 \r\nL 27.984375 72.90625 \r\nL 27.984375 29.203125 \r\nQ 27.984375 20.171875 30.9375 16.28125 \r\nQ 33.890625 12.40625 40.578125 12.40625 \r\nQ 47.3125 12.40625 50.265625 16.28125 \r\nQ 53.21875 20.171875 53.21875 29.203125 \r\nL 53.21875 72.90625 \r\nL 72.015625 72.90625 \r\nL 72.015625 29.203125 \r\nQ 72.015625 13.71875 64.25 6.140625 \r\nQ 56.5 -1.421875 40.578125 -1.421875 \r\nQ 24.703125 -1.421875 16.9375 6.140625 \r\nQ 9.1875 13.71875 9.1875 29.203125 \r\nz\r\n\" id=\"DejaVuSans-Bold-85\"/>\r\n     <path d=\"M 35.890625 40.578125 \r\nQ 41.796875 40.578125 44.359375 42.765625 \r\nQ 46.921875 44.96875 46.921875 50 \r\nQ 46.921875 54.984375 44.359375 57.125 \r\nQ 41.796875 59.28125 35.890625 59.28125 \r\nL 27.984375 59.28125 \r\nL 27.984375 40.578125 \r\nz\r\nM 27.984375 27.59375 \r\nL 27.984375 0 \r\nL 9.1875 0 \r\nL 9.1875 72.90625 \r\nL 37.890625 72.90625 \r\nQ 52.296875 72.90625 59 68.0625 \r\nQ 65.71875 63.234375 65.71875 52.78125 \r\nQ 65.71875 45.5625 62.21875 40.921875 \r\nQ 58.734375 36.28125 51.703125 34.078125 \r\nQ 55.5625 33.203125 58.609375 30.09375 \r\nQ 61.671875 27 64.796875 20.703125 \r\nL 75 0 \r\nL 54.984375 0 \r\nL 46.09375 18.109375 \r\nQ 43.40625 23.578125 40.640625 25.578125 \r\nQ 37.890625 27.59375 33.296875 27.59375 \r\nz\r\n\" id=\"DejaVuSans-Bold-82\"/>\r\n     <path d=\"M 0.484375 72.90625 \r\nL 19.390625 72.90625 \r\nL 38.71875 19.09375 \r\nL 58.015625 72.90625 \r\nL 76.90625 72.90625 \r\nL 49.90625 0 \r\nL 27.484375 0 \r\nz\r\n\" id=\"DejaVuSans-Bold-86\"/>\r\n     <path d=\"M 9.1875 72.90625 \r\nL 27.984375 72.90625 \r\nL 27.984375 0 \r\nL 9.1875 0 \r\nz\r\n\" id=\"DejaVuSans-Bold-73\"/>\r\n     <path d=\"M 53.421875 13.28125 \r\nL 24.03125 13.28125 \r\nL 19.390625 0 \r\nL 0.484375 0 \r\nL 27.484375 72.90625 \r\nL 49.90625 72.90625 \r\nL 76.90625 0 \r\nL 58.015625 0 \r\nz\r\nM 28.71875 26.8125 \r\nL 48.6875 26.8125 \r\nL 38.71875 55.8125 \r\nz\r\n\" id=\"DejaVuSans-Bold-65\"/>\r\n     <path d=\"M 9.1875 72.90625 \r\nL 27.984375 72.90625 \r\nL 27.984375 14.203125 \r\nL 60.984375 14.203125 \r\nL 60.984375 0 \r\nL 9.1875 0 \r\nz\r\n\" id=\"DejaVuSans-Bold-76\"/>\r\n     <path id=\"DejaVuSans-Bold-32\"/>\r\n     <path d=\"M 0.484375 72.90625 \r\nL 67.671875 72.90625 \r\nL 67.671875 58.6875 \r\nL 43.5 58.6875 \r\nL 43.5 0 \r\nL 24.703125 0 \r\nL 24.703125 58.6875 \r\nL 0.484375 58.6875 \r\nz\r\n\" id=\"DejaVuSans-Bold-84\"/>\r\n    </defs>\r\n    <g transform=\"translate(251.310625 18.14175)scale(0.144 -0.144)\">\r\n     <use xlink:href=\"#DejaVuSans-Bold-83\"/>\r\n     <use x=\"72.021484\" xlink:href=\"#DejaVuSans-Bold-85\"/>\r\n     <use x=\"153.222656\" xlink:href=\"#DejaVuSans-Bold-82\"/>\r\n     <use x=\"230.224609\" xlink:href=\"#DejaVuSans-Bold-86\"/>\r\n     <use x=\"307.617188\" xlink:href=\"#DejaVuSans-Bold-73\"/>\r\n     <use x=\"344.824219\" xlink:href=\"#DejaVuSans-Bold-86\"/>\r\n     <use x=\"422.123047\" xlink:href=\"#DejaVuSans-Bold-65\"/>\r\n     <use x=\"499.515625\" xlink:href=\"#DejaVuSans-Bold-76\"/>\r\n     <use x=\"563.236328\" xlink:href=\"#DejaVuSans-Bold-32\"/>\r\n     <use x=\"598.050781\" xlink:href=\"#DejaVuSans-Bold-83\"/>\r\n     <use x=\"670.072266\" xlink:href=\"#DejaVuSans-Bold-84\"/>\r\n     <use x=\"738.175781\" xlink:href=\"#DejaVuSans-Bold-65\"/>\r\n     <use x=\"815.458984\" xlink:href=\"#DejaVuSans-Bold-84\"/>\r\n     <use x=\"883.671875\" xlink:href=\"#DejaVuSans-Bold-85\"/>\r\n     <use x=\"964.873047\" xlink:href=\"#DejaVuSans-Bold-83\"/>\r\n    </g>\r\n   </g>\r\n  </g>\r\n </g>\r\n <defs>\r\n  <clipPath id=\"p7e6ea58f15\">\r\n   <rect height=\"271.8\" width=\"558\" x=\"46.965625\" y=\"24.14175\"/>\r\n  </clipPath>\r\n </defs>\r\n</svg>\r\n",
      "image/png": "[encoded data removed]"
     },
     "metadata": {
      "needs_background": "light"
     }
    }
   ],
   "source": [
    "fig, ax = plt.subplots(figsize=[10,5])\n",
    "plt.style.use('ggplot')\n",
    "sns.countplot(df['survival_status'])\n",
    "ax.set_title('SURVIVAL STATUS', fontweight='bold')\n",
    "plt.show()"
   ]
  },
  {
   "cell_type": "code",
   "execution_count": 7,
   "metadata": {},
   "outputs": [],
   "source": [
    "dfsatu  = df[df['survival_status'] == 1]\n",
    "dfdua   = df[df['survival_status'] == 2]\n",
    "\n",
    "dfsatu  = dfsatu[:len(dfdua)]"
   ]
  },
  {
   "cell_type": "code",
   "execution_count": 8,
   "metadata": {},
   "outputs": [
    {
     "output_type": "execute_result",
     "data": {
      "text/plain": "81"
     },
     "metadata": {},
     "execution_count": 8
    }
   ],
   "source": [
    "len(dfsatu)"
   ]
  },
  {
   "cell_type": "code",
   "execution_count": 9,
   "metadata": {},
   "outputs": [],
   "source": [
    "df  = pd.concat([dfsatu,dfdua])"
   ]
  },
  {
   "cell_type": "code",
   "execution_count": 10,
   "metadata": {},
   "outputs": [
    {
     "output_type": "execute_result",
     "data": {
      "text/plain": "2    81\n1    81\nName: survival_status, dtype: int64"
     },
     "metadata": {},
     "execution_count": 10
    }
   ],
   "source": [
    "df['survival_status'].value_counts()"
   ]
  },
  {
   "cell_type": "code",
   "execution_count": 11,
   "metadata": {},
   "outputs": [
    {
     "output_type": "display_data",
     "data": {
      "text/plain": "<Figure size 720x360 with 1 Axes>",
      "image/svg+xml": "<?xml version=\"1.0\" encoding=\"utf-8\" standalone=\"no\"?>\r\n<!DOCTYPE svg PUBLIC \"-//W3C//DTD SVG 1.1//EN\"\r\n  \"http://www.w3.org/Graphics/SVG/1.1/DTD/svg11.dtd\">\r\n<!-- Created with matplotlib (https://matplotlib.org/) -->\r\n<svg height=\"335.767375pt\" version=\"1.1\" viewBox=\"0 0 607.73875 335.767375\" width=\"607.73875pt\" xmlns=\"http://www.w3.org/2000/svg\" xmlns:xlink=\"http://www.w3.org/1999/xlink\">\r\n <defs>\r\n  <style type=\"text/css\">\r\n*{stroke-linecap:butt;stroke-linejoin:round;}\r\n  </style>\r\n </defs>\r\n <g id=\"figure_1\">\r\n  <g id=\"patch_1\">\r\n   <path d=\"M 0 335.767375 \r\nL 607.73875 335.767375 \r\nL 607.73875 0 \r\nL 0 0 \r\nz\r\n\" style=\"fill:#ffffff;\"/>\r\n  </g>\r\n  <g id=\"axes_1\">\r\n   <g id=\"patch_2\">\r\n    <path d=\"M 42.53875 295.94175 \r\nL 600.53875 295.94175 \r\nL 600.53875 24.14175 \r\nL 42.53875 24.14175 \r\nz\r\n\" style=\"fill:#e5e5e5;\"/>\r\n   </g>\r\n   <g id=\"matplotlib.axis_1\">\r\n    <g id=\"xtick_1\">\r\n     <g id=\"line2d_1\">\r\n      <defs>\r\n       <path d=\"M 0 0 \r\nL 0 3.5 \r\n\" id=\"m18b376bf2c\" style=\"stroke:#555555;stroke-width:0.8;\"/>\r\n      </defs>\r\n      <g>\r\n       <use style=\"fill:#555555;stroke:#555555;stroke-width:0.8;\" x=\"182.03875\" xlink:href=\"#m18b376bf2c\" y=\"295.94175\"/>\r\n      </g>\r\n     </g>\r\n     <g id=\"text_1\">\r\n      <!-- 1 -->\r\n      <defs>\r\n       <path d=\"M 12.40625 8.296875 \r\nL 28.515625 8.296875 \r\nL 28.515625 63.921875 \r\nL 10.984375 60.40625 \r\nL 10.984375 69.390625 \r\nL 28.421875 72.90625 \r\nL 38.28125 72.90625 \r\nL 38.28125 8.296875 \r\nL 54.390625 8.296875 \r\nL 54.390625 0 \r\nL 12.40625 0 \r\nz\r\n\" id=\"DejaVuSans-49\"/>\r\n      </defs>\r\n      <g style=\"fill:#555555;\" transform=\"translate(178.8575 310.540188)scale(0.1 -0.1)\">\r\n       <use xlink:href=\"#DejaVuSans-49\"/>\r\n      </g>\r\n     </g>\r\n    </g>\r\n    <g id=\"xtick_2\">\r\n     <g id=\"line2d_2\">\r\n      <g>\r\n       <use style=\"fill:#555555;stroke:#555555;stroke-width:0.8;\" x=\"461.03875\" xlink:href=\"#m18b376bf2c\" y=\"295.94175\"/>\r\n      </g>\r\n     </g>\r\n     <g id=\"text_2\">\r\n      <!-- 2 -->\r\n      <defs>\r\n       <path d=\"M 19.1875 8.296875 \r\nL 53.609375 8.296875 \r\nL 53.609375 0 \r\nL 7.328125 0 \r\nL 7.328125 8.296875 \r\nQ 12.9375 14.109375 22.625 23.890625 \r\nQ 32.328125 33.6875 34.8125 36.53125 \r\nQ 39.546875 41.84375 41.421875 45.53125 \r\nQ 43.3125 49.21875 43.3125 52.78125 \r\nQ 43.3125 58.59375 39.234375 62.25 \r\nQ 35.15625 65.921875 28.609375 65.921875 \r\nQ 23.96875 65.921875 18.8125 64.3125 \r\nQ 13.671875 62.703125 7.8125 59.421875 \r\nL 7.8125 69.390625 \r\nQ 13.765625 71.78125 18.9375 73 \r\nQ 24.125 74.21875 28.421875 74.21875 \r\nQ 39.75 74.21875 46.484375 68.546875 \r\nQ 53.21875 62.890625 53.21875 53.421875 \r\nQ 53.21875 48.921875 51.53125 44.890625 \r\nQ 49.859375 40.875 45.40625 35.40625 \r\nQ 44.1875 33.984375 37.640625 27.21875 \r\nQ 31.109375 20.453125 19.1875 8.296875 \r\nz\r\n\" id=\"DejaVuSans-50\"/>\r\n      </defs>\r\n      <g style=\"fill:#555555;\" transform=\"translate(457.8575 310.540188)scale(0.1 -0.1)\">\r\n       <use xlink:href=\"#DejaVuSans-50\"/>\r\n      </g>\r\n     </g>\r\n    </g>\r\n    <g id=\"text_3\">\r\n     <!-- survival_status -->\r\n     <defs>\r\n      <path d=\"M 44.28125 53.078125 \r\nL 44.28125 44.578125 \r\nQ 40.484375 46.53125 36.375 47.5 \r\nQ 32.28125 48.484375 27.875 48.484375 \r\nQ 21.1875 48.484375 17.84375 46.4375 \r\nQ 14.5 44.390625 14.5 40.28125 \r\nQ 14.5 37.15625 16.890625 35.375 \r\nQ 19.28125 33.59375 26.515625 31.984375 \r\nL 29.59375 31.296875 \r\nQ 39.15625 29.25 43.1875 25.515625 \r\nQ 47.21875 21.78125 47.21875 15.09375 \r\nQ 47.21875 7.46875 41.1875 3.015625 \r\nQ 35.15625 -1.421875 24.609375 -1.421875 \r\nQ 20.21875 -1.421875 15.453125 -0.5625 \r\nQ 10.6875 0.296875 5.421875 2 \r\nL 5.421875 11.28125 \r\nQ 10.40625 8.6875 15.234375 7.390625 \r\nQ 20.0625 6.109375 24.8125 6.109375 \r\nQ 31.15625 6.109375 34.5625 8.28125 \r\nQ 37.984375 10.453125 37.984375 14.40625 \r\nQ 37.984375 18.0625 35.515625 20.015625 \r\nQ 33.0625 21.96875 24.703125 23.78125 \r\nL 21.578125 24.515625 \r\nQ 13.234375 26.265625 9.515625 29.90625 \r\nQ 5.8125 33.546875 5.8125 39.890625 \r\nQ 5.8125 47.609375 11.28125 51.796875 \r\nQ 16.75 56 26.8125 56 \r\nQ 31.78125 56 36.171875 55.265625 \r\nQ 40.578125 54.546875 44.28125 53.078125 \r\nz\r\n\" id=\"DejaVuSans-115\"/>\r\n      <path d=\"M 8.5 21.578125 \r\nL 8.5 54.6875 \r\nL 17.484375 54.6875 \r\nL 17.484375 21.921875 \r\nQ 17.484375 14.15625 20.5 10.265625 \r\nQ 23.53125 6.390625 29.59375 6.390625 \r\nQ 36.859375 6.390625 41.078125 11.03125 \r\nQ 45.3125 15.671875 45.3125 23.6875 \r\nL 45.3125 54.6875 \r\nL 54.296875 54.6875 \r\nL 54.296875 0 \r\nL 45.3125 0 \r\nL 45.3125 8.40625 \r\nQ 42.046875 3.421875 37.71875 1 \r\nQ 33.40625 -1.421875 27.6875 -1.421875 \r\nQ 18.265625 -1.421875 13.375 4.4375 \r\nQ 8.5 10.296875 8.5 21.578125 \r\nz\r\nM 31.109375 56 \r\nz\r\n\" id=\"DejaVuSans-117\"/>\r\n      <path d=\"M 41.109375 46.296875 \r\nQ 39.59375 47.171875 37.8125 47.578125 \r\nQ 36.03125 48 33.890625 48 \r\nQ 26.265625 48 22.1875 43.046875 \r\nQ 18.109375 38.09375 18.109375 28.8125 \r\nL 18.109375 0 \r\nL 9.078125 0 \r\nL 9.078125 54.6875 \r\nL 18.109375 54.6875 \r\nL 18.109375 46.1875 \r\nQ 20.953125 51.171875 25.484375 53.578125 \r\nQ 30.03125 56 36.53125 56 \r\nQ 37.453125 56 38.578125 55.875 \r\nQ 39.703125 55.765625 41.0625 55.515625 \r\nz\r\n\" id=\"DejaVuSans-114\"/>\r\n      <path d=\"M 2.984375 54.6875 \r\nL 12.5 54.6875 \r\nL 29.59375 8.796875 \r\nL 46.6875 54.6875 \r\nL 56.203125 54.6875 \r\nL 35.6875 0 \r\nL 23.484375 0 \r\nz\r\n\" id=\"DejaVuSans-118\"/>\r\n      <path d=\"M 9.421875 54.6875 \r\nL 18.40625 54.6875 \r\nL 18.40625 0 \r\nL 9.421875 0 \r\nz\r\nM 9.421875 75.984375 \r\nL 18.40625 75.984375 \r\nL 18.40625 64.59375 \r\nL 9.421875 64.59375 \r\nz\r\n\" id=\"DejaVuSans-105\"/>\r\n      <path d=\"M 34.28125 27.484375 \r\nQ 23.390625 27.484375 19.1875 25 \r\nQ 14.984375 22.515625 14.984375 16.5 \r\nQ 14.984375 11.71875 18.140625 8.90625 \r\nQ 21.296875 6.109375 26.703125 6.109375 \r\nQ 34.1875 6.109375 38.703125 11.40625 \r\nQ 43.21875 16.703125 43.21875 25.484375 \r\nL 43.21875 27.484375 \r\nz\r\nM 52.203125 31.203125 \r\nL 52.203125 0 \r\nL 43.21875 0 \r\nL 43.21875 8.296875 \r\nQ 40.140625 3.328125 35.546875 0.953125 \r\nQ 30.953125 -1.421875 24.3125 -1.421875 \r\nQ 15.921875 -1.421875 10.953125 3.296875 \r\nQ 6 8.015625 6 15.921875 \r\nQ 6 25.140625 12.171875 29.828125 \r\nQ 18.359375 34.515625 30.609375 34.515625 \r\nL 43.21875 34.515625 \r\nL 43.21875 35.40625 \r\nQ 43.21875 41.609375 39.140625 45 \r\nQ 35.0625 48.390625 27.6875 48.390625 \r\nQ 23 48.390625 18.546875 47.265625 \r\nQ 14.109375 46.140625 10.015625 43.890625 \r\nL 10.015625 52.203125 \r\nQ 14.9375 54.109375 19.578125 55.046875 \r\nQ 24.21875 56 28.609375 56 \r\nQ 40.484375 56 46.34375 49.84375 \r\nQ 52.203125 43.703125 52.203125 31.203125 \r\nz\r\n\" id=\"DejaVuSans-97\"/>\r\n      <path d=\"M 9.421875 75.984375 \r\nL 18.40625 75.984375 \r\nL 18.40625 0 \r\nL 9.421875 0 \r\nz\r\n\" id=\"DejaVuSans-108\"/>\r\n      <path d=\"M 50.984375 -16.609375 \r\nL 50.984375 -23.578125 \r\nL -0.984375 -23.578125 \r\nL -0.984375 -16.609375 \r\nz\r\n\" id=\"DejaVuSans-95\"/>\r\n      <path d=\"M 18.3125 70.21875 \r\nL 18.3125 54.6875 \r\nL 36.8125 54.6875 \r\nL 36.8125 47.703125 \r\nL 18.3125 47.703125 \r\nL 18.3125 18.015625 \r\nQ 18.3125 11.328125 20.140625 9.421875 \r\nQ 21.96875 7.515625 27.59375 7.515625 \r\nL 36.8125 7.515625 \r\nL 36.8125 0 \r\nL 27.59375 0 \r\nQ 17.1875 0 13.234375 3.875 \r\nQ 9.28125 7.765625 9.28125 18.015625 \r\nL 9.28125 47.703125 \r\nL 2.6875 47.703125 \r\nL 2.6875 54.6875 \r\nL 9.28125 54.6875 \r\nL 9.28125 70.21875 \r\nz\r\n\" id=\"DejaVuSans-116\"/>\r\n     </defs>\r\n     <g style=\"fill:#555555;\" transform=\"translate(276.595937 325.738)scale(0.12 -0.12)\">\r\n      <use xlink:href=\"#DejaVuSans-115\"/>\r\n      <use x=\"52.099609\" xlink:href=\"#DejaVuSans-117\"/>\r\n      <use x=\"115.478516\" xlink:href=\"#DejaVuSans-114\"/>\r\n      <use x=\"156.591797\" xlink:href=\"#DejaVuSans-118\"/>\r\n      <use x=\"215.771484\" xlink:href=\"#DejaVuSans-105\"/>\r\n      <use x=\"243.554688\" xlink:href=\"#DejaVuSans-118\"/>\r\n      <use x=\"302.734375\" xlink:href=\"#DejaVuSans-97\"/>\r\n      <use x=\"364.013672\" xlink:href=\"#DejaVuSans-108\"/>\r\n      <use x=\"391.796875\" xlink:href=\"#DejaVuSans-95\"/>\r\n      <use x=\"441.796875\" xlink:href=\"#DejaVuSans-115\"/>\r\n      <use x=\"493.896484\" xlink:href=\"#DejaVuSans-116\"/>\r\n      <use x=\"533.105469\" xlink:href=\"#DejaVuSans-97\"/>\r\n      <use x=\"594.384766\" xlink:href=\"#DejaVuSans-116\"/>\r\n      <use x=\"633.59375\" xlink:href=\"#DejaVuSans-117\"/>\r\n      <use x=\"696.972656\" xlink:href=\"#DejaVuSans-115\"/>\r\n     </g>\r\n    </g>\r\n   </g>\r\n   <g id=\"matplotlib.axis_2\">\r\n    <g id=\"ytick_1\">\r\n     <g id=\"line2d_3\">\r\n      <path clip-path=\"url(#p3cd0dd46f5)\" d=\"M 42.53875 295.94175 \r\nL 600.53875 295.94175 \r\n\" style=\"fill:none;stroke:#ffffff;stroke-linecap:square;stroke-width:0.8;\"/>\r\n     </g>\r\n     <g id=\"line2d_4\">\r\n      <defs>\r\n       <path d=\"M 0 0 \r\nL -3.5 0 \r\n\" id=\"made14c571c\" style=\"stroke:#555555;stroke-width:0.8;\"/>\r\n      </defs>\r\n      <g>\r\n       <use style=\"fill:#555555;stroke:#555555;stroke-width:0.8;\" x=\"42.53875\" xlink:href=\"#made14c571c\" y=\"295.94175\"/>\r\n      </g>\r\n     </g>\r\n     <g id=\"text_4\">\r\n      <!-- 0 -->\r\n      <defs>\r\n       <path d=\"M 31.78125 66.40625 \r\nQ 24.171875 66.40625 20.328125 58.90625 \r\nQ 16.5 51.421875 16.5 36.375 \r\nQ 16.5 21.390625 20.328125 13.890625 \r\nQ 24.171875 6.390625 31.78125 6.390625 \r\nQ 39.453125 6.390625 43.28125 13.890625 \r\nQ 47.125 21.390625 47.125 36.375 \r\nQ 47.125 51.421875 43.28125 58.90625 \r\nQ 39.453125 66.40625 31.78125 66.40625 \r\nz\r\nM 31.78125 74.21875 \r\nQ 44.046875 74.21875 50.515625 64.515625 \r\nQ 56.984375 54.828125 56.984375 36.375 \r\nQ 56.984375 17.96875 50.515625 8.265625 \r\nQ 44.046875 -1.421875 31.78125 -1.421875 \r\nQ 19.53125 -1.421875 13.0625 8.265625 \r\nQ 6.59375 17.96875 6.59375 36.375 \r\nQ 6.59375 54.828125 13.0625 64.515625 \r\nQ 19.53125 74.21875 31.78125 74.21875 \r\nz\r\n\" id=\"DejaVuSans-48\"/>\r\n      </defs>\r\n      <g style=\"fill:#555555;\" transform=\"translate(29.17625 299.740969)scale(0.1 -0.1)\">\r\n       <use xlink:href=\"#DejaVuSans-48\"/>\r\n      </g>\r\n     </g>\r\n    </g>\r\n    <g id=\"ytick_2\">\r\n     <g id=\"line2d_5\">\r\n      <path clip-path=\"url(#p3cd0dd46f5)\" d=\"M 42.53875 263.984078 \r\nL 600.53875 263.984078 \r\n\" style=\"fill:none;stroke:#ffffff;stroke-linecap:square;stroke-width:0.8;\"/>\r\n     </g>\r\n     <g id=\"line2d_6\">\r\n      <g>\r\n       <use style=\"fill:#555555;stroke:#555555;stroke-width:0.8;\" x=\"42.53875\" xlink:href=\"#made14c571c\" y=\"263.984078\"/>\r\n      </g>\r\n     </g>\r\n     <g id=\"text_5\">\r\n      <!-- 10 -->\r\n      <g style=\"fill:#555555;\" transform=\"translate(22.81375 267.783297)scale(0.1 -0.1)\">\r\n       <use xlink:href=\"#DejaVuSans-49\"/>\r\n       <use x=\"63.623047\" xlink:href=\"#DejaVuSans-48\"/>\r\n      </g>\r\n     </g>\r\n    </g>\r\n    <g id=\"ytick_3\">\r\n     <g id=\"line2d_7\">\r\n      <path clip-path=\"url(#p3cd0dd46f5)\" d=\"M 42.53875 232.026406 \r\nL 600.53875 232.026406 \r\n\" style=\"fill:none;stroke:#ffffff;stroke-linecap:square;stroke-width:0.8;\"/>\r\n     </g>\r\n     <g id=\"line2d_8\">\r\n      <g>\r\n       <use style=\"fill:#555555;stroke:#555555;stroke-width:0.8;\" x=\"42.53875\" xlink:href=\"#made14c571c\" y=\"232.026406\"/>\r\n      </g>\r\n     </g>\r\n     <g id=\"text_6\">\r\n      <!-- 20 -->\r\n      <g style=\"fill:#555555;\" transform=\"translate(22.81375 235.825625)scale(0.1 -0.1)\">\r\n       <use xlink:href=\"#DejaVuSans-50\"/>\r\n       <use x=\"63.623047\" xlink:href=\"#DejaVuSans-48\"/>\r\n      </g>\r\n     </g>\r\n    </g>\r\n    <g id=\"ytick_4\">\r\n     <g id=\"line2d_9\">\r\n      <path clip-path=\"url(#p3cd0dd46f5)\" d=\"M 42.53875 200.068734 \r\nL 600.53875 200.068734 \r\n\" style=\"fill:none;stroke:#ffffff;stroke-linecap:square;stroke-width:0.8;\"/>\r\n     </g>\r\n     <g id=\"line2d_10\">\r\n      <g>\r\n       <use style=\"fill:#555555;stroke:#555555;stroke-width:0.8;\" x=\"42.53875\" xlink:href=\"#made14c571c\" y=\"200.068734\"/>\r\n      </g>\r\n     </g>\r\n     <g id=\"text_7\">\r\n      <!-- 30 -->\r\n      <defs>\r\n       <path d=\"M 40.578125 39.3125 \r\nQ 47.65625 37.796875 51.625 33 \r\nQ 55.609375 28.21875 55.609375 21.1875 \r\nQ 55.609375 10.40625 48.1875 4.484375 \r\nQ 40.765625 -1.421875 27.09375 -1.421875 \r\nQ 22.515625 -1.421875 17.65625 -0.515625 \r\nQ 12.796875 0.390625 7.625 2.203125 \r\nL 7.625 11.71875 \r\nQ 11.71875 9.328125 16.59375 8.109375 \r\nQ 21.484375 6.890625 26.8125 6.890625 \r\nQ 36.078125 6.890625 40.9375 10.546875 \r\nQ 45.796875 14.203125 45.796875 21.1875 \r\nQ 45.796875 27.640625 41.28125 31.265625 \r\nQ 36.765625 34.90625 28.71875 34.90625 \r\nL 20.21875 34.90625 \r\nL 20.21875 43.015625 \r\nL 29.109375 43.015625 \r\nQ 36.375 43.015625 40.234375 45.921875 \r\nQ 44.09375 48.828125 44.09375 54.296875 \r\nQ 44.09375 59.90625 40.109375 62.90625 \r\nQ 36.140625 65.921875 28.71875 65.921875 \r\nQ 24.65625 65.921875 20.015625 65.03125 \r\nQ 15.375 64.15625 9.8125 62.3125 \r\nL 9.8125 71.09375 \r\nQ 15.4375 72.65625 20.34375 73.4375 \r\nQ 25.25 74.21875 29.59375 74.21875 \r\nQ 40.828125 74.21875 47.359375 69.109375 \r\nQ 53.90625 64.015625 53.90625 55.328125 \r\nQ 53.90625 49.265625 50.4375 45.09375 \r\nQ 46.96875 40.921875 40.578125 39.3125 \r\nz\r\n\" id=\"DejaVuSans-51\"/>\r\n      </defs>\r\n      <g style=\"fill:#555555;\" transform=\"translate(22.81375 203.867953)scale(0.1 -0.1)\">\r\n       <use xlink:href=\"#DejaVuSans-51\"/>\r\n       <use x=\"63.623047\" xlink:href=\"#DejaVuSans-48\"/>\r\n      </g>\r\n     </g>\r\n    </g>\r\n    <g id=\"ytick_5\">\r\n     <g id=\"line2d_11\">\r\n      <path clip-path=\"url(#p3cd0dd46f5)\" d=\"M 42.53875 168.111062 \r\nL 600.53875 168.111062 \r\n\" style=\"fill:none;stroke:#ffffff;stroke-linecap:square;stroke-width:0.8;\"/>\r\n     </g>\r\n     <g id=\"line2d_12\">\r\n      <g>\r\n       <use style=\"fill:#555555;stroke:#555555;stroke-width:0.8;\" x=\"42.53875\" xlink:href=\"#made14c571c\" y=\"168.111062\"/>\r\n      </g>\r\n     </g>\r\n     <g id=\"text_8\">\r\n      <!-- 40 -->\r\n      <defs>\r\n       <path d=\"M 37.796875 64.3125 \r\nL 12.890625 25.390625 \r\nL 37.796875 25.390625 \r\nz\r\nM 35.203125 72.90625 \r\nL 47.609375 72.90625 \r\nL 47.609375 25.390625 \r\nL 58.015625 25.390625 \r\nL 58.015625 17.1875 \r\nL 47.609375 17.1875 \r\nL 47.609375 0 \r\nL 37.796875 0 \r\nL 37.796875 17.1875 \r\nL 4.890625 17.1875 \r\nL 4.890625 26.703125 \r\nz\r\n\" id=\"DejaVuSans-52\"/>\r\n      </defs>\r\n      <g style=\"fill:#555555;\" transform=\"translate(22.81375 171.910281)scale(0.1 -0.1)\">\r\n       <use xlink:href=\"#DejaVuSans-52\"/>\r\n       <use x=\"63.623047\" xlink:href=\"#DejaVuSans-48\"/>\r\n      </g>\r\n     </g>\r\n    </g>\r\n    <g id=\"ytick_6\">\r\n     <g id=\"line2d_13\">\r\n      <path clip-path=\"url(#p3cd0dd46f5)\" d=\"M 42.53875 136.15339 \r\nL 600.53875 136.15339 \r\n\" style=\"fill:none;stroke:#ffffff;stroke-linecap:square;stroke-width:0.8;\"/>\r\n     </g>\r\n     <g id=\"line2d_14\">\r\n      <g>\r\n       <use style=\"fill:#555555;stroke:#555555;stroke-width:0.8;\" x=\"42.53875\" xlink:href=\"#made14c571c\" y=\"136.15339\"/>\r\n      </g>\r\n     </g>\r\n     <g id=\"text_9\">\r\n      <!-- 50 -->\r\n      <defs>\r\n       <path d=\"M 10.796875 72.90625 \r\nL 49.515625 72.90625 \r\nL 49.515625 64.59375 \r\nL 19.828125 64.59375 \r\nL 19.828125 46.734375 \r\nQ 21.96875 47.46875 24.109375 47.828125 \r\nQ 26.265625 48.1875 28.421875 48.1875 \r\nQ 40.625 48.1875 47.75 41.5 \r\nQ 54.890625 34.8125 54.890625 23.390625 \r\nQ 54.890625 11.625 47.5625 5.09375 \r\nQ 40.234375 -1.421875 26.90625 -1.421875 \r\nQ 22.3125 -1.421875 17.546875 -0.640625 \r\nQ 12.796875 0.140625 7.71875 1.703125 \r\nL 7.71875 11.625 \r\nQ 12.109375 9.234375 16.796875 8.0625 \r\nQ 21.484375 6.890625 26.703125 6.890625 \r\nQ 35.15625 6.890625 40.078125 11.328125 \r\nQ 45.015625 15.765625 45.015625 23.390625 \r\nQ 45.015625 31 40.078125 35.4375 \r\nQ 35.15625 39.890625 26.703125 39.890625 \r\nQ 22.75 39.890625 18.8125 39.015625 \r\nQ 14.890625 38.140625 10.796875 36.28125 \r\nz\r\n\" id=\"DejaVuSans-53\"/>\r\n      </defs>\r\n      <g style=\"fill:#555555;\" transform=\"translate(22.81375 139.952609)scale(0.1 -0.1)\">\r\n       <use xlink:href=\"#DejaVuSans-53\"/>\r\n       <use x=\"63.623047\" xlink:href=\"#DejaVuSans-48\"/>\r\n      </g>\r\n     </g>\r\n    </g>\r\n    <g id=\"ytick_7\">\r\n     <g id=\"line2d_15\">\r\n      <path clip-path=\"url(#p3cd0dd46f5)\" d=\"M 42.53875 104.195718 \r\nL 600.53875 104.195718 \r\n\" style=\"fill:none;stroke:#ffffff;stroke-linecap:square;stroke-width:0.8;\"/>\r\n     </g>\r\n     <g id=\"line2d_16\">\r\n      <g>\r\n       <use style=\"fill:#555555;stroke:#555555;stroke-width:0.8;\" x=\"42.53875\" xlink:href=\"#made14c571c\" y=\"104.195718\"/>\r\n      </g>\r\n     </g>\r\n     <g id=\"text_10\">\r\n      <!-- 60 -->\r\n      <defs>\r\n       <path d=\"M 33.015625 40.375 \r\nQ 26.375 40.375 22.484375 35.828125 \r\nQ 18.609375 31.296875 18.609375 23.390625 \r\nQ 18.609375 15.53125 22.484375 10.953125 \r\nQ 26.375 6.390625 33.015625 6.390625 \r\nQ 39.65625 6.390625 43.53125 10.953125 \r\nQ 47.40625 15.53125 47.40625 23.390625 \r\nQ 47.40625 31.296875 43.53125 35.828125 \r\nQ 39.65625 40.375 33.015625 40.375 \r\nz\r\nM 52.59375 71.296875 \r\nL 52.59375 62.3125 \r\nQ 48.875 64.0625 45.09375 64.984375 \r\nQ 41.3125 65.921875 37.59375 65.921875 \r\nQ 27.828125 65.921875 22.671875 59.328125 \r\nQ 17.53125 52.734375 16.796875 39.40625 \r\nQ 19.671875 43.65625 24.015625 45.921875 \r\nQ 28.375 48.1875 33.59375 48.1875 \r\nQ 44.578125 48.1875 50.953125 41.515625 \r\nQ 57.328125 34.859375 57.328125 23.390625 \r\nQ 57.328125 12.15625 50.6875 5.359375 \r\nQ 44.046875 -1.421875 33.015625 -1.421875 \r\nQ 20.359375 -1.421875 13.671875 8.265625 \r\nQ 6.984375 17.96875 6.984375 36.375 \r\nQ 6.984375 53.65625 15.1875 63.9375 \r\nQ 23.390625 74.21875 37.203125 74.21875 \r\nQ 40.921875 74.21875 44.703125 73.484375 \r\nQ 48.484375 72.75 52.59375 71.296875 \r\nz\r\n\" id=\"DejaVuSans-54\"/>\r\n      </defs>\r\n      <g style=\"fill:#555555;\" transform=\"translate(22.81375 107.994937)scale(0.1 -0.1)\">\r\n       <use xlink:href=\"#DejaVuSans-54\"/>\r\n       <use x=\"63.623047\" xlink:href=\"#DejaVuSans-48\"/>\r\n      </g>\r\n     </g>\r\n    </g>\r\n    <g id=\"ytick_8\">\r\n     <g id=\"line2d_17\">\r\n      <path clip-path=\"url(#p3cd0dd46f5)\" d=\"M 42.53875 72.238046 \r\nL 600.53875 72.238046 \r\n\" style=\"fill:none;stroke:#ffffff;stroke-linecap:square;stroke-width:0.8;\"/>\r\n     </g>\r\n     <g id=\"line2d_18\">\r\n      <g>\r\n       <use style=\"fill:#555555;stroke:#555555;stroke-width:0.8;\" x=\"42.53875\" xlink:href=\"#made14c571c\" y=\"72.238046\"/>\r\n      </g>\r\n     </g>\r\n     <g id=\"text_11\">\r\n      <!-- 70 -->\r\n      <defs>\r\n       <path d=\"M 8.203125 72.90625 \r\nL 55.078125 72.90625 \r\nL 55.078125 68.703125 \r\nL 28.609375 0 \r\nL 18.3125 0 \r\nL 43.21875 64.59375 \r\nL 8.203125 64.59375 \r\nz\r\n\" id=\"DejaVuSans-55\"/>\r\n      </defs>\r\n      <g style=\"fill:#555555;\" transform=\"translate(22.81375 76.037265)scale(0.1 -0.1)\">\r\n       <use xlink:href=\"#DejaVuSans-55\"/>\r\n       <use x=\"63.623047\" xlink:href=\"#DejaVuSans-48\"/>\r\n      </g>\r\n     </g>\r\n    </g>\r\n    <g id=\"ytick_9\">\r\n     <g id=\"line2d_19\">\r\n      <path clip-path=\"url(#p3cd0dd46f5)\" d=\"M 42.53875 40.280374 \r\nL 600.53875 40.280374 \r\n\" style=\"fill:none;stroke:#ffffff;stroke-linecap:square;stroke-width:0.8;\"/>\r\n     </g>\r\n     <g id=\"line2d_20\">\r\n      <g>\r\n       <use style=\"fill:#555555;stroke:#555555;stroke-width:0.8;\" x=\"42.53875\" xlink:href=\"#made14c571c\" y=\"40.280374\"/>\r\n      </g>\r\n     </g>\r\n     <g id=\"text_12\">\r\n      <!-- 80 -->\r\n      <defs>\r\n       <path d=\"M 31.78125 34.625 \r\nQ 24.75 34.625 20.71875 30.859375 \r\nQ 16.703125 27.09375 16.703125 20.515625 \r\nQ 16.703125 13.921875 20.71875 10.15625 \r\nQ 24.75 6.390625 31.78125 6.390625 \r\nQ 38.8125 6.390625 42.859375 10.171875 \r\nQ 46.921875 13.96875 46.921875 20.515625 \r\nQ 46.921875 27.09375 42.890625 30.859375 \r\nQ 38.875 34.625 31.78125 34.625 \r\nz\r\nM 21.921875 38.8125 \r\nQ 15.578125 40.375 12.03125 44.71875 \r\nQ 8.5 49.078125 8.5 55.328125 \r\nQ 8.5 64.0625 14.71875 69.140625 \r\nQ 20.953125 74.21875 31.78125 74.21875 \r\nQ 42.671875 74.21875 48.875 69.140625 \r\nQ 55.078125 64.0625 55.078125 55.328125 \r\nQ 55.078125 49.078125 51.53125 44.71875 \r\nQ 48 40.375 41.703125 38.8125 \r\nQ 48.828125 37.15625 52.796875 32.3125 \r\nQ 56.78125 27.484375 56.78125 20.515625 \r\nQ 56.78125 9.90625 50.3125 4.234375 \r\nQ 43.84375 -1.421875 31.78125 -1.421875 \r\nQ 19.734375 -1.421875 13.25 4.234375 \r\nQ 6.78125 9.90625 6.78125 20.515625 \r\nQ 6.78125 27.484375 10.78125 32.3125 \r\nQ 14.796875 37.15625 21.921875 38.8125 \r\nz\r\nM 18.3125 54.390625 \r\nQ 18.3125 48.734375 21.84375 45.5625 \r\nQ 25.390625 42.390625 31.78125 42.390625 \r\nQ 38.140625 42.390625 41.71875 45.5625 \r\nQ 45.3125 48.734375 45.3125 54.390625 \r\nQ 45.3125 60.0625 41.71875 63.234375 \r\nQ 38.140625 66.40625 31.78125 66.40625 \r\nQ 25.390625 66.40625 21.84375 63.234375 \r\nQ 18.3125 60.0625 18.3125 54.390625 \r\nz\r\n\" id=\"DejaVuSans-56\"/>\r\n      </defs>\r\n      <g style=\"fill:#555555;\" transform=\"translate(22.81375 44.079593)scale(0.1 -0.1)\">\r\n       <use xlink:href=\"#DejaVuSans-56\"/>\r\n       <use x=\"63.623047\" xlink:href=\"#DejaVuSans-48\"/>\r\n      </g>\r\n     </g>\r\n    </g>\r\n    <g id=\"text_13\">\r\n     <!-- count -->\r\n     <defs>\r\n      <path d=\"M 48.78125 52.59375 \r\nL 48.78125 44.1875 \r\nQ 44.96875 46.296875 41.140625 47.34375 \r\nQ 37.3125 48.390625 33.40625 48.390625 \r\nQ 24.65625 48.390625 19.8125 42.84375 \r\nQ 14.984375 37.3125 14.984375 27.296875 \r\nQ 14.984375 17.28125 19.8125 11.734375 \r\nQ 24.65625 6.203125 33.40625 6.203125 \r\nQ 37.3125 6.203125 41.140625 7.25 \r\nQ 44.96875 8.296875 48.78125 10.40625 \r\nL 48.78125 2.09375 \r\nQ 45.015625 0.34375 40.984375 -0.53125 \r\nQ 36.96875 -1.421875 32.421875 -1.421875 \r\nQ 20.0625 -1.421875 12.78125 6.34375 \r\nQ 5.515625 14.109375 5.515625 27.296875 \r\nQ 5.515625 40.671875 12.859375 48.328125 \r\nQ 20.21875 56 33.015625 56 \r\nQ 37.15625 56 41.109375 55.140625 \r\nQ 45.0625 54.296875 48.78125 52.59375 \r\nz\r\n\" id=\"DejaVuSans-99\"/>\r\n      <path d=\"M 30.609375 48.390625 \r\nQ 23.390625 48.390625 19.1875 42.75 \r\nQ 14.984375 37.109375 14.984375 27.296875 \r\nQ 14.984375 17.484375 19.15625 11.84375 \r\nQ 23.34375 6.203125 30.609375 6.203125 \r\nQ 37.796875 6.203125 41.984375 11.859375 \r\nQ 46.1875 17.53125 46.1875 27.296875 \r\nQ 46.1875 37.015625 41.984375 42.703125 \r\nQ 37.796875 48.390625 30.609375 48.390625 \r\nz\r\nM 30.609375 56 \r\nQ 42.328125 56 49.015625 48.375 \r\nQ 55.71875 40.765625 55.71875 27.296875 \r\nQ 55.71875 13.875 49.015625 6.21875 \r\nQ 42.328125 -1.421875 30.609375 -1.421875 \r\nQ 18.84375 -1.421875 12.171875 6.21875 \r\nQ 5.515625 13.875 5.515625 27.296875 \r\nQ 5.515625 40.765625 12.171875 48.375 \r\nQ 18.84375 56 30.609375 56 \r\nz\r\n\" id=\"DejaVuSans-111\"/>\r\n      <path d=\"M 54.890625 33.015625 \r\nL 54.890625 0 \r\nL 45.90625 0 \r\nL 45.90625 32.71875 \r\nQ 45.90625 40.484375 42.875 44.328125 \r\nQ 39.84375 48.1875 33.796875 48.1875 \r\nQ 26.515625 48.1875 22.3125 43.546875 \r\nQ 18.109375 38.921875 18.109375 30.90625 \r\nL 18.109375 0 \r\nL 9.078125 0 \r\nL 9.078125 54.6875 \r\nL 18.109375 54.6875 \r\nL 18.109375 46.1875 \r\nQ 21.34375 51.125 25.703125 53.5625 \r\nQ 30.078125 56 35.796875 56 \r\nQ 45.21875 56 50.046875 50.171875 \r\nQ 54.890625 44.34375 54.890625 33.015625 \r\nz\r\n\" id=\"DejaVuSans-110\"/>\r\n     </defs>\r\n     <g style=\"fill:#555555;\" transform=\"translate(16.318125 176.96925)rotate(-90)scale(0.12 -0.12)\">\r\n      <use xlink:href=\"#DejaVuSans-99\"/>\r\n      <use x=\"54.980469\" xlink:href=\"#DejaVuSans-111\"/>\r\n      <use x=\"116.162109\" xlink:href=\"#DejaVuSans-117\"/>\r\n      <use x=\"179.541016\" xlink:href=\"#DejaVuSans-110\"/>\r\n      <use x=\"242.919922\" xlink:href=\"#DejaVuSans-116\"/>\r\n     </g>\r\n    </g>\r\n   </g>\r\n   <g id=\"patch_3\">\r\n    <path clip-path=\"url(#p3cd0dd46f5)\" d=\"M 70.43875 295.94175 \r\nL 293.63875 295.94175 \r\nL 293.63875 37.084607 \r\nL 70.43875 37.084607 \r\nz\r\n\" style=\"fill:#cc5a49;\"/>\r\n   </g>\r\n   <g id=\"patch_4\">\r\n    <path clip-path=\"url(#p3cd0dd46f5)\" d=\"M 349.43875 295.94175 \r\nL 572.63875 295.94175 \r\nL 572.63875 37.084607 \r\nL 349.43875 37.084607 \r\nz\r\n\" style=\"fill:#4586ac;\"/>\r\n   </g>\r\n   <g id=\"patch_5\">\r\n    <path d=\"M 42.53875 295.94175 \r\nL 42.53875 24.14175 \r\n\" style=\"fill:none;stroke:#ffffff;stroke-linecap:square;stroke-linejoin:miter;\"/>\r\n   </g>\r\n   <g id=\"patch_6\">\r\n    <path d=\"M 600.53875 295.94175 \r\nL 600.53875 24.14175 \r\n\" style=\"fill:none;stroke:#ffffff;stroke-linecap:square;stroke-linejoin:miter;\"/>\r\n   </g>\r\n   <g id=\"patch_7\">\r\n    <path d=\"M 42.53875 295.94175 \r\nL 600.53875 295.94175 \r\n\" style=\"fill:none;stroke:#ffffff;stroke-linecap:square;stroke-linejoin:miter;\"/>\r\n   </g>\r\n   <g id=\"patch_8\">\r\n    <path d=\"M 42.53875 24.14175 \r\nL 600.53875 24.14175 \r\n\" style=\"fill:none;stroke:#ffffff;stroke-linecap:square;stroke-linejoin:miter;\"/>\r\n   </g>\r\n   <g id=\"text_14\">\r\n    <!-- SURVIVAL STATUS -->\r\n    <defs>\r\n     <path d=\"M 59.90625 70.609375 \r\nL 59.90625 55.171875 \r\nQ 53.90625 57.859375 48.1875 59.21875 \r\nQ 42.484375 60.59375 37.40625 60.59375 \r\nQ 30.671875 60.59375 27.4375 58.734375 \r\nQ 24.21875 56.890625 24.21875 52.984375 \r\nQ 24.21875 50.046875 26.390625 48.40625 \r\nQ 28.5625 46.78125 34.28125 45.609375 \r\nL 42.28125 44 \r\nQ 54.4375 41.546875 59.5625 36.5625 \r\nQ 64.703125 31.59375 64.703125 22.40625 \r\nQ 64.703125 10.359375 57.546875 4.46875 \r\nQ 50.390625 -1.421875 35.6875 -1.421875 \r\nQ 28.765625 -1.421875 21.78125 -0.09375 \r\nQ 14.796875 1.21875 7.8125 3.8125 \r\nL 7.8125 19.671875 \r\nQ 14.796875 15.96875 21.3125 14.078125 \r\nQ 27.828125 12.203125 33.890625 12.203125 \r\nQ 40.046875 12.203125 43.3125 14.25 \r\nQ 46.578125 16.3125 46.578125 20.125 \r\nQ 46.578125 23.53125 44.359375 25.390625 \r\nQ 42.140625 27.25 35.5 28.71875 \r\nL 28.21875 30.328125 \r\nQ 17.28125 32.671875 12.21875 37.796875 \r\nQ 7.171875 42.921875 7.171875 51.609375 \r\nQ 7.171875 62.5 14.203125 68.359375 \r\nQ 21.234375 74.21875 34.421875 74.21875 \r\nQ 40.4375 74.21875 46.78125 73.3125 \r\nQ 53.125 72.40625 59.90625 70.609375 \r\nz\r\n\" id=\"DejaVuSans-Bold-83\"/>\r\n     <path d=\"M 9.1875 72.90625 \r\nL 27.984375 72.90625 \r\nL 27.984375 29.203125 \r\nQ 27.984375 20.171875 30.9375 16.28125 \r\nQ 33.890625 12.40625 40.578125 12.40625 \r\nQ 47.3125 12.40625 50.265625 16.28125 \r\nQ 53.21875 20.171875 53.21875 29.203125 \r\nL 53.21875 72.90625 \r\nL 72.015625 72.90625 \r\nL 72.015625 29.203125 \r\nQ 72.015625 13.71875 64.25 6.140625 \r\nQ 56.5 -1.421875 40.578125 -1.421875 \r\nQ 24.703125 -1.421875 16.9375 6.140625 \r\nQ 9.1875 13.71875 9.1875 29.203125 \r\nz\r\n\" id=\"DejaVuSans-Bold-85\"/>\r\n     <path d=\"M 35.890625 40.578125 \r\nQ 41.796875 40.578125 44.359375 42.765625 \r\nQ 46.921875 44.96875 46.921875 50 \r\nQ 46.921875 54.984375 44.359375 57.125 \r\nQ 41.796875 59.28125 35.890625 59.28125 \r\nL 27.984375 59.28125 \r\nL 27.984375 40.578125 \r\nz\r\nM 27.984375 27.59375 \r\nL 27.984375 0 \r\nL 9.1875 0 \r\nL 9.1875 72.90625 \r\nL 37.890625 72.90625 \r\nQ 52.296875 72.90625 59 68.0625 \r\nQ 65.71875 63.234375 65.71875 52.78125 \r\nQ 65.71875 45.5625 62.21875 40.921875 \r\nQ 58.734375 36.28125 51.703125 34.078125 \r\nQ 55.5625 33.203125 58.609375 30.09375 \r\nQ 61.671875 27 64.796875 20.703125 \r\nL 75 0 \r\nL 54.984375 0 \r\nL 46.09375 18.109375 \r\nQ 43.40625 23.578125 40.640625 25.578125 \r\nQ 37.890625 27.59375 33.296875 27.59375 \r\nz\r\n\" id=\"DejaVuSans-Bold-82\"/>\r\n     <path d=\"M 0.484375 72.90625 \r\nL 19.390625 72.90625 \r\nL 38.71875 19.09375 \r\nL 58.015625 72.90625 \r\nL 76.90625 72.90625 \r\nL 49.90625 0 \r\nL 27.484375 0 \r\nz\r\n\" id=\"DejaVuSans-Bold-86\"/>\r\n     <path d=\"M 9.1875 72.90625 \r\nL 27.984375 72.90625 \r\nL 27.984375 0 \r\nL 9.1875 0 \r\nz\r\n\" id=\"DejaVuSans-Bold-73\"/>\r\n     <path d=\"M 53.421875 13.28125 \r\nL 24.03125 13.28125 \r\nL 19.390625 0 \r\nL 0.484375 0 \r\nL 27.484375 72.90625 \r\nL 49.90625 72.90625 \r\nL 76.90625 0 \r\nL 58.015625 0 \r\nz\r\nM 28.71875 26.8125 \r\nL 48.6875 26.8125 \r\nL 38.71875 55.8125 \r\nz\r\n\" id=\"DejaVuSans-Bold-65\"/>\r\n     <path d=\"M 9.1875 72.90625 \r\nL 27.984375 72.90625 \r\nL 27.984375 14.203125 \r\nL 60.984375 14.203125 \r\nL 60.984375 0 \r\nL 9.1875 0 \r\nz\r\n\" id=\"DejaVuSans-Bold-76\"/>\r\n     <path id=\"DejaVuSans-Bold-32\"/>\r\n     <path d=\"M 0.484375 72.90625 \r\nL 67.671875 72.90625 \r\nL 67.671875 58.6875 \r\nL 43.5 58.6875 \r\nL 43.5 0 \r\nL 24.703125 0 \r\nL 24.703125 58.6875 \r\nL 0.484375 58.6875 \r\nz\r\n\" id=\"DejaVuSans-Bold-84\"/>\r\n    </defs>\r\n    <g transform=\"translate(246.88375 18.14175)scale(0.144 -0.144)\">\r\n     <use xlink:href=\"#DejaVuSans-Bold-83\"/>\r\n     <use x=\"72.021484\" xlink:href=\"#DejaVuSans-Bold-85\"/>\r\n     <use x=\"153.222656\" xlink:href=\"#DejaVuSans-Bold-82\"/>\r\n     <use x=\"230.224609\" xlink:href=\"#DejaVuSans-Bold-86\"/>\r\n     <use x=\"307.617188\" xlink:href=\"#DejaVuSans-Bold-73\"/>\r\n     <use x=\"344.824219\" xlink:href=\"#DejaVuSans-Bold-86\"/>\r\n     <use x=\"422.123047\" xlink:href=\"#DejaVuSans-Bold-65\"/>\r\n     <use x=\"499.515625\" xlink:href=\"#DejaVuSans-Bold-76\"/>\r\n     <use x=\"563.236328\" xlink:href=\"#DejaVuSans-Bold-32\"/>\r\n     <use x=\"598.050781\" xlink:href=\"#DejaVuSans-Bold-83\"/>\r\n     <use x=\"670.072266\" xlink:href=\"#DejaVuSans-Bold-84\"/>\r\n     <use x=\"738.175781\" xlink:href=\"#DejaVuSans-Bold-65\"/>\r\n     <use x=\"815.458984\" xlink:href=\"#DejaVuSans-Bold-84\"/>\r\n     <use x=\"883.671875\" xlink:href=\"#DejaVuSans-Bold-85\"/>\r\n     <use x=\"964.873047\" xlink:href=\"#DejaVuSans-Bold-83\"/>\r\n    </g>\r\n   </g>\r\n  </g>\r\n </g>\r\n <defs>\r\n  <clipPath id=\"p3cd0dd46f5\">\r\n   <rect height=\"271.8\" width=\"558\" x=\"42.53875\" y=\"24.14175\"/>\r\n  </clipPath>\r\n </defs>\r\n</svg>\r\n",
      "image/png": "[encoded data removed]"
     },
     "metadata": {}
    }
   ],
   "source": [
    "fig, ax = plt.subplots(figsize=[10,5])\n",
    "plt.style.use('ggplot')\n",
    "sns.countplot(df['survival_status'])\n",
    "ax.set_title('SURVIVAL STATUS', fontweight='bold')\n",
    "plt.show()"
   ]
  },
  {
   "cell_type": "code",
   "execution_count": 12,
   "metadata": {},
   "outputs": [],
   "source": [
    "y = df['survival_status']\n",
    "X = df.drop('survival_status', axis=1)"
   ]
  },
  {
   "cell_type": "code",
   "execution_count": 13,
   "metadata": {},
   "outputs": [
    {
     "output_type": "execute_result",
     "data": {
      "text/plain": "Index(['Age', 'Patient's Years', 'N_positive_ax'], dtype='object')"
     },
     "metadata": {},
     "execution_count": 13
    }
   ],
   "source": [
    "X.columns"
   ]
  },
  {
   "cell_type": "code",
   "execution_count": 14,
   "metadata": {},
   "outputs": [],
   "source": [
    "for i in X.columns:\n",
    "    X[i] = StandardScaler().fit_transform(X[[i]])"
   ]
  },
  {
   "cell_type": "code",
   "execution_count": 15,
   "metadata": {},
   "outputs": [
    {
     "output_type": "execute_result",
     "data": {
      "text/plain": "DecisionTreeClassifier(ccp_alpha=0.0, class_weight=None, criterion='gini',\n                       max_depth=None, max_features=None, max_leaf_nodes=None,\n                       min_impurity_decrease=0.0, min_impurity_split=None,\n                       min_samples_leaf=1, min_samples_split=2,\n                       min_weight_fraction_leaf=0.0, presort='deprecated',\n                       random_state=None, splitter='best')"
     },
     "metadata": {},
     "execution_count": 15
    }
   ],
   "source": [
    "X_train, X_test, y_train, y_test    = train_test_split(X, y, test_size=0.25, stratify=y)\n",
    "\n",
    "knn = KNeighborsClassifier()\n",
    "dt  = DecisionTreeClassifier()\n",
    "\n",
    "knn.fit(X_train, y_train)\n",
    "dt.fit(X_train, y_train)"
   ]
  },
  {
   "cell_type": "code",
   "execution_count": 16,
   "metadata": {},
   "outputs": [
    {
     "output_type": "stream",
     "name": "stdout",
     "text": "Rata2 CV KNN\t: 0.8745659722222221\n\n\nRata2 CV DT\t: 0.6439236111111111\n"
    }
   ],
   "source": [
    "print(f\"Rata2 CV KNN\\t: {cross_val_score(knn, X, y, scoring='roc_auc', cv=10).mean()}\\n\\n\")\n",
    "print(f\"Rata2 CV DT\\t: {cross_val_score(dt, X, y, scoring='roc_auc', cv=10).mean()}\")"
   ]
  },
  {
   "cell_type": "code",
   "execution_count": 17,
   "metadata": {},
   "outputs": [
    {
     "output_type": "stream",
     "name": "stdout",
     "text": "Classification Report dari KNN\n              precision    recall  f1-score   support\n\n           1       0.75      0.90      0.82        20\n           2       0.88      0.71      0.79        21\n\n    accuracy                           0.80        41\n   macro avg       0.82      0.81      0.80        41\nweighted avg       0.82      0.80      0.80        41\n\n\n\nClassification Report dari DT\n              precision    recall  f1-score   support\n\n           1       0.77      0.85      0.81        20\n           2       0.84      0.76      0.80        21\n\n    accuracy                           0.80        41\n   macro avg       0.81      0.81      0.80        41\nweighted avg       0.81      0.80      0.80        41\n\n"
    }
   ],
   "source": [
    "print('Classification Report dari KNN')\n",
    "print(classification_report(y_test, knn.predict(X_test)))\n",
    "print('\\n\\nClassification Report dari DT')\n",
    "print(classification_report(y_test, dt.predict(X_test)))"
   ]
  },
  {
   "cell_type": "code",
   "execution_count": 18,
   "metadata": {},
   "outputs": [
    {
     "output_type": "execute_result",
     "data": {
      "text/plain": "{'algorithm': 'auto',\n 'leaf_size': 30,\n 'metric': 'minkowski',\n 'metric_params': None,\n 'n_jobs': None,\n 'n_neighbors': 5,\n 'p': 2,\n 'weights': 'uniform'}"
     },
     "metadata": {},
     "execution_count": 18
    }
   ],
   "source": [
    "knn.get_params()"
   ]
  },
  {
   "cell_type": "code",
   "execution_count": 19,
   "metadata": {},
   "outputs": [],
   "source": [
    "knnparam    = {'algorithm': ['auto', 'ball_tree', 'kd_tree', 'brute'],\n",
    "                'leaf_size': [10, 20, 30, 40, 50],                        \n",
    "                'n_neighbors': [2, 3, 5, 6, 10],\n",
    "                'p': [1, 2],\n",
    "                'weights': ['uniform', 'distance']}"
   ]
  },
  {
   "cell_type": "code",
   "execution_count": 20,
   "metadata": {},
   "outputs": [
    {
     "output_type": "execute_result",
     "data": {
      "text/plain": "{'ccp_alpha': 0.0,\n 'class_weight': None,\n 'criterion': 'gini',\n 'max_depth': None,\n 'max_features': None,\n 'max_leaf_nodes': None,\n 'min_impurity_decrease': 0.0,\n 'min_impurity_split': None,\n 'min_samples_leaf': 1,\n 'min_samples_split': 2,\n 'min_weight_fraction_leaf': 0.0,\n 'presort': 'deprecated',\n 'random_state': None,\n 'splitter': 'best'}"
     },
     "metadata": {},
     "execution_count": 20
    }
   ],
   "source": [
    "dt.get_params()"
   ]
  },
  {
   "cell_type": "code",
   "execution_count": 21,
   "metadata": {},
   "outputs": [],
   "source": [
    "dtparam     = {'ccp_alpha': [0.5, 0.1, 0.0, 0.1, 0.5],\n",
    "                'class_weight': [None, 'balanced'],\n",
    "                'criterion': ['gini',' entropy'],\n",
    "                'max_depth': [None, 1, 10, 20, 50],\n",
    "                'max_features': [None],\n",
    "                'max_leaf_nodes': [None, 1, 2, 3, 4],\n",
    "                'min_impurity_decrease': [0.0],                \n",
    "                'min_samples_leaf': [1, 2, 3, 4],\n",
    "                'min_samples_split': [2, 3, 4, 5, 6],\n",
    "                'min_weight_fraction_leaf': [0.5, 0.1, 0.0, 0.1, 0.5],    \n",
    "                'random_state': [None, 46, 48],\n",
    "                'splitter': ['best', 'random']}"
   ]
  },
  {
   "cell_type": "code",
   "execution_count": 22,
   "metadata": {},
   "outputs": [
    {
     "output_type": "execute_result",
     "data": {
      "text/plain": "GridSearchCV(cv=10, error_score='raise',\n             estimator=KNeighborsClassifier(algorithm='auto', leaf_size=30,\n                                            metric='minkowski',\n                                            metric_params=None, n_jobs=None,\n                                            n_neighbors=5, p=2,\n                                            weights='uniform'),\n             iid='deprecated', n_jobs=None,\n             param_grid={'algorithm': ['auto', 'ball_tree', 'kd_tree', 'brute'],\n                         'leaf_size': [10, 20, 30, 40, 50],\n                         'n_neighbors': [2, 3, 5, 6, 10], 'p': [1, 2],\n                         'weights': ['uniform', 'distance']},\n             pre_dispatch='2*n_jobs', refit=True, return_train_score=False,\n             scoring='roc_auc', verbose=0)"
     },
     "metadata": {},
     "execution_count": 22
    }
   ],
   "source": [
    "knntune = GridSearchCV(KNeighborsClassifier(), param_grid=knnparam, error_score='raise', cv=10, scoring='roc_auc')\n",
    "knntune.fit(X_train, y_train)"
   ]
  },
  {
   "cell_type": "code",
   "execution_count": 23,
   "metadata": {},
   "outputs": [
    {
     "output_type": "execute_result",
     "data": {
      "text/plain": "RandomizedSearchCV(cv=10, error_score=nan,\n                   estimator=DecisionTreeClassifier(ccp_alpha=0.0,\n                                                    class_weight=None,\n                                                    criterion='gini',\n                                                    max_depth=None,\n                                                    max_features=None,\n                                                    max_leaf_nodes=None,\n                                                    min_impurity_decrease=0.0,\n                                                    min_impurity_split=None,\n                                                    min_samples_leaf=1,\n                                                    min_samples_split=2,\n                                                    min_weight_fraction_leaf=0.0,\n                                                    presort='deprecated',\n                                                    random_state=None,\n                                                    splitter='best'),...\n                                        'max_features': [None],\n                                        'max_leaf_nodes': [None, 1, 2, 3, 4],\n                                        'min_impurity_decrease': [0.0],\n                                        'min_samples_leaf': [1, 2, 3, 4],\n                                        'min_samples_split': [2, 3, 4, 5, 6],\n                                        'min_weight_fraction_leaf': [0.5, 0.1,\n                                                                     0.0, 0.1,\n                                                                     0.5],\n                                        'random_state': [None, 46, 48],\n                                        'splitter': ['best', 'random']},\n                   pre_dispatch='2*n_jobs', random_state=None, refit=True,\n                   return_train_score=False, scoring='roc_auc', verbose=0)"
     },
     "metadata": {},
     "execution_count": 23
    }
   ],
   "source": [
    "dttune  = RandomizedSearchCV(DecisionTreeClassifier(), param_distributions=dtparam, n_iter=10, scoring='roc_auc', cv=10)\n",
    "dttune.fit(X_train, y_train)"
   ]
  },
  {
   "cell_type": "code",
   "execution_count": 24,
   "metadata": {},
   "outputs": [
    {
     "output_type": "stream",
     "name": "stdout",
     "text": "Rata2 CV KNN\t: 0.9019097222222221\n\n\nRata2 CV DT\t: 0.7125\n"
    }
   ],
   "source": [
    "print(f\"Rata2 CV KNN\\t: {cross_val_score(knntune, X, y, scoring='roc_auc', cv=10).mean()}\\n\\n\")\n",
    "print(f\"Rata2 CV DT\\t: {cross_val_score(dttune, X, y, scoring='roc_auc', cv=10).mean()}\")"
   ]
  },
  {
   "cell_type": "code",
   "execution_count": 25,
   "metadata": {},
   "outputs": [
    {
     "output_type": "stream",
     "name": "stdout",
     "text": "Classification Report dari KNN\n              precision    recall  f1-score   support\n\n           1       0.78      0.90      0.84        20\n           2       0.89      0.76      0.82        21\n\n    accuracy                           0.83        41\n   macro avg       0.84      0.83      0.83        41\nweighted avg       0.84      0.83      0.83        41\n\n\n\nClassification Report dari DT\n              precision    recall  f1-score   support\n\n           1       0.79      0.95      0.86        20\n           2       0.94      0.76      0.84        21\n\n    accuracy                           0.85        41\n   macro avg       0.87      0.86      0.85        41\nweighted avg       0.87      0.85      0.85        41\n\n"
    }
   ],
   "source": [
    "print('Classification Report dari KNN')\n",
    "print(classification_report(y_test, knntune.predict(X_test)))\n",
    "print('\\n\\nClassification Report dari DT')\n",
    "print(classification_report(y_test, dttune.predict(X_test)))"
   ]
  },
  {
   "cell_type": "code",
   "execution_count": 28,
   "metadata": {},
   "outputs": [
    {
     "output_type": "stream",
     "name": "stdout",
     "text": "{'algorithm': 'brute', 'leaf_size': 10, 'n_neighbors': 5, 'p': 1, 'weights': 'uniform'}\n"
    }
   ],
   "source": [
    "print(knntune.best_params_)"
   ]
  },
  {
   "cell_type": "code",
   "execution_count": 29,
   "metadata": {},
   "outputs": [
    {
     "output_type": "stream",
     "name": "stdout",
     "text": "{'splitter': 'best', 'random_state': 46, 'min_weight_fraction_leaf': 0.0, 'min_samples_split': 3, 'min_samples_leaf': 1, 'min_impurity_decrease': 0.0, 'max_leaf_nodes': 3, 'max_features': None, 'max_depth': 10, 'criterion': 'gini', 'class_weight': None, 'ccp_alpha': 0.0}\n"
    }
   ],
   "source": [
    "print(dttune.best_params_)"
   ]
  },
  {
   "cell_type": "code",
   "execution_count": 31,
   "metadata": {},
   "outputs": [
    {
     "output_type": "stream",
     "name": "stdout",
     "text": "0.8292682926829268\n"
    }
   ],
   "source": [
    "#Akurasi knn tuning\n",
    "print(accuracy_score(y_test, knntune.predict(X_test)))"
   ]
  },
  {
   "cell_type": "code",
   "execution_count": 32,
   "metadata": {},
   "outputs": [
    {
     "output_type": "stream",
     "name": "stdout",
     "text": "0.8536585365853658\n"
    }
   ],
   "source": [
    "#Akurasi dt tuning\n",
    "print(accuracy_score(y_test, dttune.predict(X_test)))"
   ]
  },
  {
   "cell_type": "code",
   "execution_count": 83,
   "metadata": {},
   "outputs": [
    {
     "output_type": "stream",
     "name": "stdout",
     "text": "[[0.  1. ]\n [0.  1. ]\n [0.  1. ]\n [0.8 0.2]\n [0.2 0.8]\n [0.8 0.2]\n [0.  1. ]\n [0.4 0.6]\n [0.8 0.2]\n [0.6 0.4]\n [0.  1. ]\n [0.6 0.4]\n [0.2 0.8]\n [0.2 0.8]\n [0.8 0.2]\n [0.8 0.2]\n [1.  0. ]\n [0.8 0.2]\n [0.6 0.4]\n [1.  0. ]\n [0.  1. ]\n [1.  0. ]\n [0.8 0.2]\n [0.8 0.2]\n [0.  1. ]\n [0.4 0.6]\n [0.4 0.6]\n [0.8 0.2]\n [0.  1. ]\n [1.  0. ]\n [1.  0. ]\n [0.2 0.8]\n [0.  1. ]\n [0.6 0.4]\n [0.8 0.2]\n [0.8 0.2]\n [0.4 0.6]\n [1.  0. ]\n [0.8 0.2]\n [0.4 0.6]\n [1.  0. ]]\n"
    }
   ],
   "source": [
    "#no 9 proba knn tuning\n",
    "print(knntune.predict_proba(X_test))"
   ]
  },
  {
   "cell_type": "code",
   "execution_count": 82,
   "metadata": {},
   "outputs": [
    {
     "output_type": "stream",
     "name": "stdout",
     "text": "[[0.         1.        ]\n [0.         1.        ]\n [0.         1.        ]\n [0.8        0.2       ]\n [0.         1.        ]\n [0.8        0.2       ]\n [0.         1.        ]\n [0.8        0.2       ]\n [0.8        0.2       ]\n [0.8        0.2       ]\n [0.         1.        ]\n [0.8        0.2       ]\n [0.16666667 0.83333333]\n [0.         1.        ]\n [0.8        0.2       ]\n [0.8        0.2       ]\n [0.8        0.2       ]\n [0.8        0.2       ]\n [0.8        0.2       ]\n [0.8        0.2       ]\n [0.         1.        ]\n [0.8        0.2       ]\n [0.         1.        ]\n [0.8        0.2       ]\n [0.         1.        ]\n [0.         1.        ]\n [0.8        0.2       ]\n [0.8        0.2       ]\n [0.         1.        ]\n [0.8        0.2       ]\n [0.8        0.2       ]\n [0.16666667 0.83333333]\n [0.         1.        ]\n [0.8        0.2       ]\n [0.8        0.2       ]\n [0.8        0.2       ]\n [0.         1.        ]\n [0.8        0.2       ]\n [0.8        0.2       ]\n [0.         1.        ]\n [0.8        0.2       ]]\n"
    }
   ],
   "source": [
    "#no 9 proba dt tuning\n",
    "print(dttune.predict_proba(X_test))"
   ]
  },
  {
   "cell_type": "code",
   "execution_count": 77,
   "metadata": {},
   "outputs": [
    {
     "output_type": "execute_result",
     "data": {
      "text/plain": "array([1, 2], dtype=int64)"
     },
     "metadata": {},
     "execution_count": 77
    }
   ],
   "source": [
    "knn.classes_"
   ]
  },
  {
   "cell_type": "code",
   "execution_count": 84,
   "metadata": {},
   "outputs": [],
   "source": [
    "knnprob = knntune.predict_proba(X_test)\n",
    "hasilknn= [isi[1] for i, isi in enumerate(knnprob)]\n",
    "\n",
    "dtprob = dttune.predict_proba(X_test)\n",
    "hasildt= [isi[1] for i, isi in enumerate(dtprob)]"
   ]
  },
  {
   "cell_type": "code",
   "execution_count": 85,
   "metadata": {},
   "outputs": [
    {
     "output_type": "stream",
     "name": "stdout",
     "text": "Probabilitas positif meninggal < 5 tahun KNN\t: [1.0, 1.0, 1.0, 0.2, 0.8, 0.2, 1.0, 0.6, 0.2, 0.4, 1.0, 0.4, 0.8, 0.8, 0.2, 0.2, 0.0, 0.2, 0.4, 0.0, 1.0, 0.0, 0.2, 0.2, 1.0, 0.6, 0.6, 0.2, 1.0, 0.0, 0.0, 0.8, 1.0, 0.4, 0.2, 0.2, 0.6, 0.0, 0.2, 0.6, 0.0]\n"
    }
   ],
   "source": [
    "#No 10\n",
    "print(f'Probabilitas positif meninggal < 5 tahun KNN\\t: {hasilknn}')"
   ]
  },
  {
   "cell_type": "code",
   "execution_count": 86,
   "metadata": {},
   "outputs": [
    {
     "output_type": "stream",
     "name": "stdout",
     "text": "Probabilitas positif meninggal < 5 tahun dt\t: [1.0, 1.0, 1.0, 0.2, 1.0, 0.2, 1.0, 0.2, 0.2, 0.2, 1.0, 0.2, 0.8333333333333334, 1.0, 0.2, 0.2, 0.2, 0.2, 0.2, 0.2, 1.0, 0.2, 1.0, 0.2, 1.0, 1.0, 0.2, 0.2, 1.0, 0.2, 0.2, 0.8333333333333334, 1.0, 0.2, 0.2, 0.2, 1.0, 0.2, 0.2, 1.0, 0.2]\n"
    }
   ],
   "source": [
    "#No 10\n",
    "print(f'Probabilitas positif meninggal < 5 tahun dt\\t: {hasildt}')"
   ]
  },
  {
   "cell_type": "markdown",
   "metadata": {},
   "source": [
    "7. Apa hyperparameter terbaik untuk kombinasi hyperparameter kalian?\n",
    "* KNN: {'algorithm': 'brute', 'leaf_size': 10, 'n_neighbors': 5, 'p': 1, 'weights': 'uniform'}\n",
    "* DT : {'splitter': 'best', 'random_state': 46, 'min_weight_fraction_leaf': 0.0, 'min_samples_split': 3, 'min_samples_leaf': 1, 'min_impurity_decrease': 0.0, 'max_leaf_nodes': 3, 'max_features': None, 'max_depth': 10, 'criterion': 'gini', 'class_weight': None, 'ccp_alpha': 0.0}\n",
    "\n",
    "8. Berapa score validasi terbaik dari model tersebut?\n",
    "* KNN: 82%\n",
    "* DT: 85%\n",
    "\n",
    "10. Perhatikan bahwa hasil prediksi ada 2, dimana masing2 adalah nilai probabilitas untuk setiap class label. Ambil nilai probabilitas pasien phositive meninggal dalam waktu kurang dari 5 tahun. note : gunakan bantuan attirubte .classes_ untuk mengetahui urutan label dari hasil prediksi probabilitas.\n",
    "\n",
    "11. Berapa nilai score roc_auc untuk data test?\n",
    "* Rata2 CV KNN\t: 0.9019097222222221\n",
    "* Rata2 CV DT\t: 0.7125\n",
    "\n",
    "\n",
    "12. Apakah model anda termasuk baik atau overtting atau underfitting?\n",
    "* Model masuk underfitting\n",
    "\n",
    "14. Bandingkan scorenya dengan Algoritma KNN, mana yang lebih baik?\n",
    "* KNN Memiliki hasil yang lebih baik"
   ]
  }
 ],
 "metadata": {
  "kernelspec": {
   "display_name": "Python 3",
   "language": "python",
   "name": "python3"
  },
  "language_info": {
   "codemirror_mode": {
    "name": "ipython",
    "version": 3
   },
   "file_extension": ".py",
   "mimetype": "text/x-python",
   "name": "python",
   "nbconvert_exporter": "python",
   "pygments_lexer": "ipython3",
   "version": "3.7.7-final"
  }
 },
 "nbformat": 4,
 "nbformat_minor": 4
}