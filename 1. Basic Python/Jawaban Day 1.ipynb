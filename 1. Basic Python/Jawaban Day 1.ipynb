{
 "cells": [
  {
   "cell_type": "markdown",
   "metadata": {},
   "source": [
    "<h2>Quiz 1 : Hello World to Python</h2>\n",
    "    \n",
    "Print Say Hello World to Python"
   ]
  },
  {
   "cell_type": "code",
   "execution_count": 23,
   "metadata": {},
   "outputs": [
    {
     "output_type": "stream",
     "name": "stdout",
     "text": "Hello World Python\n"
    }
   ],
   "source": [
    "print('Hello World Python')"
   ]
  },
  {
   "cell_type": "markdown",
   "metadata": {},
   "source": [
    "Expected Output : \n",
    "\n",
    "Hello World Python"
   ]
  },
  {
   "cell_type": "markdown",
   "metadata": {},
   "source": [
    "<h2>Quiz 2 : Aritmatika di Python </h2>\n",
    "    \n",
    "- Buat statement pertambahan antara 2 number di Python\n",
    "- Buat statement perkurangan antara 2 number di Python\n",
    "- Buat statement perkalian antara 2 number di Python\n",
    "- Buat statement pembagian antara 2 number di Python"
   ]
  },
  {
   "cell_type": "code",
   "execution_count": 24,
   "metadata": {},
   "outputs": [
    {
     "output_type": "stream",
     "name": "stdout",
     "text": "10 + 20 adalah 30\n30 + 40 adalah 70\n\n10 - 20 adalah -10\n30 - 40 adalah -10\n\n10 * 20 adalah 200\n30 * 40 adalah 1200\n\n10 / 20 adalah 0.5\n30 / 40 adalah 0.75\n\n"
    }
   ],
   "source": [
    "inputa = int(input('Input nilai A\\t: '))\n",
    "inputb = int(input('Input nilai B\\t: '))\n",
    "inputc = int(input('Input nilai C\\t: '))\n",
    "inputd = int(input('Input nilai D\\t: '))\n",
    "\n",
    "print(f'{inputa} + {inputb} adalah {inputa+inputb}')\n",
    "print(f'{inputc} + {inputd} adalah {inputc+inputd}\\n')\n",
    "\n",
    "print(f'{inputa} - {inputb} adalah {inputa-inputb}')\n",
    "print(f'{inputc} - {inputd} adalah {inputc-inputd}\\n')\n",
    "\n",
    "print(f'{inputa} * {inputb} adalah {inputa*inputb}')\n",
    "print(f'{inputc} * {inputd} adalah {inputc*inputd}\\n')\n",
    "\n",
    "print(f'{inputa} / {inputb} adalah {inputa/inputb}')\n",
    "print(f'{inputc} / {inputd} adalah {inputc/inputd}\\n')"
   ]
  },
  {
   "cell_type": "markdown",
   "metadata": {},
   "source": [
    "<h2>Quiz 3 : Assign Variable dan Tipe Data Integer, Float </h2>\n",
    "\n",
    "- Buat suatu variabel a dan b, dimana a dan b adalah nilai bertipe data numeric\n",
    "- Berikan suatu nilai bertipe data integer, hasil pembagian dari a dengan b\n",
    "- Berikan suatu nilai bertipe data float, hasil pembagian dari a dengan b"
   ]
  },
  {
   "cell_type": "code",
   "execution_count": 25,
   "metadata": {},
   "outputs": [
    {
     "output_type": "stream",
     "name": "stdout",
     "text": "nilai a adalah\t: 10\t dengan tipe data <class 'int'>\nnilai b adalah\t: 20\t dengan tipe data <class 'int'>\nnilai c adalah\t: 0\t dengan tipe data <class 'int'>\nnilai d adalah\t: 0.5\t dengan tipe data <class 'float'>\n"
    }
   ],
   "source": [
    "a = int(input('Input nilai A\\t: '))\n",
    "b = int(input('Input nilai B\\t: '))\n",
    "\n",
    "c = int(a / b)\n",
    "d = float(a / b)\n",
    "\n",
    "print(f'nilai a adalah\\t: {a}\\t dengan tipe data {type(a)}')\n",
    "print(f'nilai b adalah\\t: {b}\\t dengan tipe data {type(b)}')\n",
    "print(f'nilai c adalah\\t: {c}\\t dengan tipe data {type(c)}')\n",
    "print(f'nilai d adalah\\t: {d}\\t dengan tipe data {type(d)}')\n",
    ""
   ]
  },
  {
   "cell_type": "markdown",
   "metadata": {},
   "source": [
    "<h2>Quiz 4 : String Operation </h2>\n",
    "\n",
    "- masukan nama depan kamu kedalam suatu variable firstname\n",
    "- masukan nama belakang kamu kedalam suatu variable lasname\n",
    "- tampilkan suatu kalimat 'Hello sanbercode, saya firstname lastname! saya siap belajar python data science.'"
   ]
  },
  {
   "cell_type": "code",
   "execution_count": 26,
   "metadata": {},
   "outputs": [
    {
     "output_type": "stream",
     "name": "stdout",
     "text": "Hello sanbercode, saya Sebastian Cahyo Ardhi Iswara! saya siap belajar python data science.\n"
    }
   ],
   "source": [
    "firstname   = 'Sebastian Cahyo'\n",
    "lastname     = 'Ardhi Iswara'\n",
    "print(f'Hello sanbercode, saya {firstname} {lastname}! saya siap belajar python data science.')"
   ]
  },
  {
   "cell_type": "markdown",
   "metadata": {},
   "source": [
    "Expected Output :\n",
    "\n",
    "Hello sanbercode, saya fauzan taufik! saya siap belajar python data science."
   ]
  },
  {
   "cell_type": "markdown",
   "metadata": {},
   "source": [
    "<h2>Quiz 5 : Tipe Data</h2>\n",
    "\n",
    "Lengkapi code di bawah ini untuk menghasilkan output yang sesuai"
   ]
  },
  {
   "cell_type": "code",
   "execution_count": 27,
   "metadata": {},
   "outputs": [
    {
     "output_type": "stream",
     "name": "stdout",
     "text": "the number : 9.99999\n"
    }
   ],
   "source": [
    "p = 9.99999\n",
    "q = 'the number : '\n",
    "print(q + str(p))"
   ]
  },
  {
   "cell_type": "markdown",
   "metadata": {},
   "source": [
    "Expected Output :\n",
    "\n",
    "the number : 9.99999"
   ]
  }
 ],
 "metadata": {
  "kernelspec": {
   "display_name": "Python 3",
   "language": "python",
   "name": "python3"
  },
  "language_info": {
   "codemirror_mode": {
    "name": "ipython",
    "version": 3
   },
   "file_extension": ".py",
   "mimetype": "text/x-python",
   "name": "python",
   "nbconvert_exporter": "python",
   "pygments_lexer": "ipython3",
   "version": "3.7.7-final"
  }
 },
 "nbformat": 4,
 "nbformat_minor": 4
}