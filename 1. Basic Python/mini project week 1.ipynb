{
 "cells": [
  {
   "cell_type": "markdown",
   "metadata": {},
   "source": [
    "# MINI PROJECT 1"
   ]
  },
  {
   "cell_type": "code",
   "execution_count": 119,
   "metadata": {},
   "outputs": [
    {
     "output_type": "stream",
     "name": "stdout",
     "text": "[1, 2, 4, 5, 6, 7, 8]\n[1, 2, 4, 5, 6, 7, 8]\n"
    }
   ],
   "source": [
    "# solusi tanpa menggunakan set\n",
    "def remove_duplicate(obj_list):\n",
    "    temp = sorted(obj_list)\n",
    "    new_list = []\n",
    "\n",
    "    for i in temp:\n",
    "        if i not in new_list:\n",
    "            new_list.append(i)\n",
    "    return new_list\n",
    "\n",
    "# solusi dengan menggunakan set\n",
    "def remove_duplicate_with_set(obj_list):\n",
    "    new_list = list(set(obj_list))\n",
    "    return new_list\n",
    "\n",
    "obj_list = [1, 2, 4, 6, 2, 1, 4, 5, 7, 8, 6]\n",
    "print(remove_duplicate(obj_list))\n",
    "print(remove_duplicate_with_set(obj_list))\n"
   ]
  },
  {
   "cell_type": "markdown",
   "metadata": {},
   "source": [
    "output :\n",
    "[1, 2, 4, 6, 5, 7, 8]\n",
    "[1, 2, 4, 5, 6, 7, 8]"
   ]
  },
  {
   "cell_type": "markdown",
   "metadata": {},
   "source": [
    "# MINI PROJECT 2 "
   ]
  },
  {
   "cell_type": "code",
   "execution_count": 120,
   "metadata": {},
   "outputs": [
    {
     "output_type": "stream",
     "name": "stdout",
     "text": "ceritakan lebih banyak!\nmaaf, aku tidak tahu jawaban dari pertanyaanmu\nnama saya  Cahyo\nhari ini tanggal 26\n"
    }
   ],
   "source": [
    "# import library\n",
    "from datetime import datetime\n",
    "import random\n",
    "\n",
    "# ganti dengan sebuah nama\n",
    "nama  = \"Cahyo\"\n",
    "# variabel tanggal\n",
    "tanggal = datetime.now().day\n",
    "# default variabel untuk pertanyaan tidak diketahui\n",
    "default = \"maaf, aku tidak tahu jawaban dari pertanyaanmu\"\n",
    "\n",
    "# Membuat objek dictionary berisi berbagai opsi jawaban\n",
    "\n",
    "# list jawaban untuk pertanyaan tentang nama\n",
    "jawaban_nama = [\n",
    "      \"nama saya  {0}\".format(nama),\n",
    "      \"orang-orang memanggil saya {0}\".format(nama),\n",
    "      \"panggil saja saya {0}\".format(nama)\n",
    "   ]\n",
    "\n",
    "# list jawaban untuk pertanyaan tentang tanggal\n",
    "jawaban_tanggal = [\n",
    "      \"hari ini tanggal {0}\".format(tanggal),\n",
    "      \"ya ampun masa tidak tahu, hari ini tanggal {0}\".format(tanggal)\n",
    "    ]\n",
    "\n",
    "# opsi pertanyaan yang bisa dijawab\n",
    "pertanyaan = {\n",
    "  \"nama kamu siapa?\": jawaban_nama,\n",
    "  \"kamu siapa?\" : jawaban_nama,\n",
    "  \"tanggal berapa hari ini?\": jawaban_tanggal,\n",
    "  \"hari ini tanggal berapa?\" : jawaban_tanggal,\n",
    "  \"default\": default\n",
    "}\n",
    "\n",
    "# list jawaban untuk sebuah argument selain pertanyaan\n",
    "statement =  [\n",
    "                  'ceritakan lebih banyak!',\n",
    "                  'kenapa kamu berpikir begitu?',\n",
    "                  'sudah berapa lama kamu merasa seperti ini?',\n",
    "                  'Itu sangat menarik!',\n",
    "                  'oh wow!',\n",
    "                  ':)'\n",
    "              ]\n",
    "\n",
    "# respon keseluruhan\n",
    "responses = {\n",
    "    'pertanyaan' : pertanyaan,\n",
    "    'statement' : statement\n",
    "}\n",
    "#------\n",
    "             \n",
    "# ayo buat chatbotmu\n",
    "def chatbot(message):\n",
    "\n",
    "    #bila kalimat berakhiran ? \n",
    "    if message.endswith('?'):\n",
    "\n",
    "        #cari pertanyaan di bank pertanyaan & jawaban dengan perulangan                  \n",
    "        for k,v in pertanyaan.items():\n",
    "\n",
    "            #jika pertanyaan ada di bank pertanyaan & jawaban\n",
    "            if k == message:\n",
    "\n",
    "                #return  jawaban\n",
    "                return random.choice(v)                \n",
    "        else:\n",
    "            #pertanyaan tidak ditemukan, masukan nilai default ke variable output\n",
    "            output = default                                   \n",
    "\n",
    "    #bila kalimat berakhiran !\n",
    "    elif message.endswith('!'):\n",
    "\n",
    "        #return statement random\n",
    "        return random.choice(statement)        \n",
    "\n",
    "    else:\n",
    "        #return kalimat tidak memiliki ? & !\n",
    "        return random.choice(statement)    \n",
    "\n",
    "    #return output yang merupakan hasil dari pertanyaan yang tidak terdaftar di bank\n",
    "    return output     \n",
    "    \n",
    "\n",
    "print(chatbot('Selamat Pagi'))\n",
    "print(chatbot('Mau bermain bersamaku?'))\n",
    "print(chatbot('nama kamu siapa?'))\n",
    "print(chatbot('hari ini tanggal berapa?'))"
   ]
  },
  {
   "cell_type": "markdown",
   "metadata": {},
   "source": [
    "output :\n",
    "* :)\n",
    "* maaf, aku tidak tahu jawaban dari pertanyaanmu\n",
    "* orang-orang memanggil saya Nama Anda\n",
    "* ya ampun masa tidak tahu, hari ini tanggal"
   ]
  }
 ],
 "metadata": {
  "language_info": {
   "codemirror_mode": {
    "name": "ipython",
    "version": 3
   },
   "file_extension": ".py",
   "mimetype": "text/x-python",
   "name": "python",
   "nbconvert_exporter": "python",
   "pygments_lexer": "ipython3",
   "version": "3.7.7-final"
  },
  "orig_nbformat": 2,
  "kernelspec": {
   "name": "python3",
   "display_name": "Python 3"
  }
 },
 "nbformat": 4,
 "nbformat_minor": 2
}