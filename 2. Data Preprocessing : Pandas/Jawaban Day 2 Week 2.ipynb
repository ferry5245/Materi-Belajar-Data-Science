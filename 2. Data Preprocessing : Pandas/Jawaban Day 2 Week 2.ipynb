{
 "cells": [
  {
   "cell_type": "code",
   "execution_count": 2,
   "metadata": {},
   "outputs": [
    {
     "output_type": "execute_result",
     "data": {
      "text/plain": "   siswa_id   pelajaran  nilai jenis-kelamin kelas\n0         1     Biologi     30     perempuan   12D\n1         2      Fisika     84     perempuan   12D\n2         3  Matematika     15     perempuan   12B\n3         4       Kimia     35     laki-laki   12C\n4         5     Biologi     12     laki-laki   12C",
      "text/html": "<div>\n<style scoped>\n    .dataframe tbody tr th:only-of-type {\n        vertical-align: middle;\n    }\n\n    .dataframe tbody tr th {\n        vertical-align: top;\n    }\n\n    .dataframe thead th {\n        text-align: right;\n    }\n</style>\n<table border=\"1\" class=\"dataframe\">\n  <thead>\n    <tr style=\"text-align: right;\">\n      <th></th>\n      <th>siswa_id</th>\n      <th>pelajaran</th>\n      <th>nilai</th>\n      <th>jenis-kelamin</th>\n      <th>kelas</th>\n    </tr>\n  </thead>\n  <tbody>\n    <tr>\n      <th>0</th>\n      <td>1</td>\n      <td>Biologi</td>\n      <td>30</td>\n      <td>perempuan</td>\n      <td>12D</td>\n    </tr>\n    <tr>\n      <th>1</th>\n      <td>2</td>\n      <td>Fisika</td>\n      <td>84</td>\n      <td>perempuan</td>\n      <td>12D</td>\n    </tr>\n    <tr>\n      <th>2</th>\n      <td>3</td>\n      <td>Matematika</td>\n      <td>15</td>\n      <td>perempuan</td>\n      <td>12B</td>\n    </tr>\n    <tr>\n      <th>3</th>\n      <td>4</td>\n      <td>Kimia</td>\n      <td>35</td>\n      <td>laki-laki</td>\n      <td>12C</td>\n    </tr>\n    <tr>\n      <th>4</th>\n      <td>5</td>\n      <td>Biologi</td>\n      <td>12</td>\n      <td>laki-laki</td>\n      <td>12C</td>\n    </tr>\n  </tbody>\n</table>\n</div>"
     },
     "metadata": {},
     "execution_count": 2
    }
   ],
   "source": [
    "# Persiapan membuat data\n",
    "import pandas as pd\n",
    "import random\n",
    "\n",
    "pelajaran = ['Matematika', 'Fisika', 'Biologi', 'Kimia', 'Geologi', 'Ekonomi']\n",
    "kelas = ['12A', '12B', '12C', '12D']\n",
    "\n",
    "hasil_nilai = {\n",
    "    'siswa_id' : range(1, 21),\n",
    "    'pelajaran' : [random.choice(pelajaran) for i in range(20)],\n",
    "    'nilai' : [random.choice(range(0, 100)) for i in range(20)],\n",
    "    'jenis-kelamin' : [random.choice(['laki-laki', 'perempuan']) for i in range(20)],\n",
    "    'kelas' : [random.choice(kelas) for i in range(20)]\n",
    "}\n",
    "\n",
    "df = pd.DataFrame(hasil_nilai)\n",
    "df.head()"
   ]
  },
  {
   "cell_type": "markdown",
   "metadata": {},
   "source": [
    "<h2>Quiz 1 : Indexing</h2>\n",
    "\n",
    "1. Lakukan indexing terhadap dataframe untuk mengakses column nilai dan kelas saja\n",
    "2. Lakukan indexing terhadap dataframe untuk mengakses row 5 sampai 10 beserta column pelajaran dan nilai"
   ]
  },
  {
   "cell_type": "code",
   "execution_count": 40,
   "metadata": {},
   "outputs": [
    {
     "output_type": "execute_result",
     "data": {
      "text/plain": "    nilai kelas\n0      33   12D\n1      60   12C\n2      51   12C\n3       0   12A\n4      20   12D\n5      46   12C\n6      22   12D\n7      57   12C\n8      91   12A\n9       9   12D\n10     55   12B\n11     49   12A\n12     46   12D\n13     20   12B\n14     93   12B\n15      2   12B\n16     67   12B\n17     89   12C\n18     33   12A\n19     99   12C",
      "text/html": "<div>\n<style scoped>\n    .dataframe tbody tr th:only-of-type {\n        vertical-align: middle;\n    }\n\n    .dataframe tbody tr th {\n        vertical-align: top;\n    }\n\n    .dataframe thead th {\n        text-align: right;\n    }\n</style>\n<table border=\"1\" class=\"dataframe\">\n  <thead>\n    <tr style=\"text-align: right;\">\n      <th></th>\n      <th>nilai</th>\n      <th>kelas</th>\n    </tr>\n  </thead>\n  <tbody>\n    <tr>\n      <th>0</th>\n      <td>33</td>\n      <td>12D</td>\n    </tr>\n    <tr>\n      <th>1</th>\n      <td>60</td>\n      <td>12C</td>\n    </tr>\n    <tr>\n      <th>2</th>\n      <td>51</td>\n      <td>12C</td>\n    </tr>\n    <tr>\n      <th>3</th>\n      <td>0</td>\n      <td>12A</td>\n    </tr>\n    <tr>\n      <th>4</th>\n      <td>20</td>\n      <td>12D</td>\n    </tr>\n    <tr>\n      <th>5</th>\n      <td>46</td>\n      <td>12C</td>\n    </tr>\n    <tr>\n      <th>6</th>\n      <td>22</td>\n      <td>12D</td>\n    </tr>\n    <tr>\n      <th>7</th>\n      <td>57</td>\n      <td>12C</td>\n    </tr>\n    <tr>\n      <th>8</th>\n      <td>91</td>\n      <td>12A</td>\n    </tr>\n    <tr>\n      <th>9</th>\n      <td>9</td>\n      <td>12D</td>\n    </tr>\n    <tr>\n      <th>10</th>\n      <td>55</td>\n      <td>12B</td>\n    </tr>\n    <tr>\n      <th>11</th>\n      <td>49</td>\n      <td>12A</td>\n    </tr>\n    <tr>\n      <th>12</th>\n      <td>46</td>\n      <td>12D</td>\n    </tr>\n    <tr>\n      <th>13</th>\n      <td>20</td>\n      <td>12B</td>\n    </tr>\n    <tr>\n      <th>14</th>\n      <td>93</td>\n      <td>12B</td>\n    </tr>\n    <tr>\n      <th>15</th>\n      <td>2</td>\n      <td>12B</td>\n    </tr>\n    <tr>\n      <th>16</th>\n      <td>67</td>\n      <td>12B</td>\n    </tr>\n    <tr>\n      <th>17</th>\n      <td>89</td>\n      <td>12C</td>\n    </tr>\n    <tr>\n      <th>18</th>\n      <td>33</td>\n      <td>12A</td>\n    </tr>\n    <tr>\n      <th>19</th>\n      <td>99</td>\n      <td>12C</td>\n    </tr>\n  </tbody>\n</table>\n</div>"
     },
     "metadata": {},
     "execution_count": 40
    }
   ],
   "source": [
    "# code here\n",
    "df.loc[:,['nilai','kelas']]"
   ]
  },
  {
   "cell_type": "code",
   "execution_count": 7,
   "metadata": {},
   "outputs": [
    {
     "output_type": "execute_result",
     "data": {
      "text/plain": "     pelajaran  nilai\n5       Fisika     72\n6   Matematika     25\n7      Biologi     57\n8       Fisika     41\n9      Geologi     52\n10  Matematika     15",
      "text/html": "<div>\n<style scoped>\n    .dataframe tbody tr th:only-of-type {\n        vertical-align: middle;\n    }\n\n    .dataframe tbody tr th {\n        vertical-align: top;\n    }\n\n    .dataframe thead th {\n        text-align: right;\n    }\n</style>\n<table border=\"1\" class=\"dataframe\">\n  <thead>\n    <tr style=\"text-align: right;\">\n      <th></th>\n      <th>pelajaran</th>\n      <th>nilai</th>\n    </tr>\n  </thead>\n  <tbody>\n    <tr>\n      <th>5</th>\n      <td>Fisika</td>\n      <td>72</td>\n    </tr>\n    <tr>\n      <th>6</th>\n      <td>Matematika</td>\n      <td>25</td>\n    </tr>\n    <tr>\n      <th>7</th>\n      <td>Biologi</td>\n      <td>57</td>\n    </tr>\n    <tr>\n      <th>8</th>\n      <td>Fisika</td>\n      <td>41</td>\n    </tr>\n    <tr>\n      <th>9</th>\n      <td>Geologi</td>\n      <td>52</td>\n    </tr>\n    <tr>\n      <th>10</th>\n      <td>Matematika</td>\n      <td>15</td>\n    </tr>\n  </tbody>\n</table>\n</div>"
     },
     "metadata": {},
     "execution_count": 7
    }
   ],
   "source": [
    "df.iloc[5:11].loc[:,['pelajaran','nilai']]"
   ]
  },
  {
   "cell_type": "markdown",
   "metadata": {},
   "source": [
    "<h2>Quiz 2 : Filter DataFrame Dengan Boolean</h2>\n",
    "\n",
    "1. Tampilkan semua data siswa pada mata pelajaran Ekonomi dan Fisika\n",
    "2. Tampilkan semua data siswa yang mempunyai nilai lebih dari 50 di mata pelajaran Kimia \n",
    "3. Tampilkan semua data yang mempunyai nilai lebih dari 70, berjnis kelamin perempuan dan di kelas 12C"
   ]
  },
  {
   "cell_type": "code",
   "execution_count": 42,
   "metadata": {},
   "outputs": [
    {
     "output_type": "execute_result",
     "data": {
      "text/plain": "    siswa_id pelajaran  nilai jenis-kelamin kelas\n0          1    Fisika     33     perempuan   12D\n2          3   Ekonomi     51     perempuan   12C\n3          4   Ekonomi      0     laki-laki   12A\n6          7    Fisika     22     laki-laki   12D\n14        15    Fisika     93     laki-laki   12B\n19        20    Fisika     99     perempuan   12C",
      "text/html": "<div>\n<style scoped>\n    .dataframe tbody tr th:only-of-type {\n        vertical-align: middle;\n    }\n\n    .dataframe tbody tr th {\n        vertical-align: top;\n    }\n\n    .dataframe thead th {\n        text-align: right;\n    }\n</style>\n<table border=\"1\" class=\"dataframe\">\n  <thead>\n    <tr style=\"text-align: right;\">\n      <th></th>\n      <th>siswa_id</th>\n      <th>pelajaran</th>\n      <th>nilai</th>\n      <th>jenis-kelamin</th>\n      <th>kelas</th>\n    </tr>\n  </thead>\n  <tbody>\n    <tr>\n      <th>0</th>\n      <td>1</td>\n      <td>Fisika</td>\n      <td>33</td>\n      <td>perempuan</td>\n      <td>12D</td>\n    </tr>\n    <tr>\n      <th>2</th>\n      <td>3</td>\n      <td>Ekonomi</td>\n      <td>51</td>\n      <td>perempuan</td>\n      <td>12C</td>\n    </tr>\n    <tr>\n      <th>3</th>\n      <td>4</td>\n      <td>Ekonomi</td>\n      <td>0</td>\n      <td>laki-laki</td>\n      <td>12A</td>\n    </tr>\n    <tr>\n      <th>6</th>\n      <td>7</td>\n      <td>Fisika</td>\n      <td>22</td>\n      <td>laki-laki</td>\n      <td>12D</td>\n    </tr>\n    <tr>\n      <th>14</th>\n      <td>15</td>\n      <td>Fisika</td>\n      <td>93</td>\n      <td>laki-laki</td>\n      <td>12B</td>\n    </tr>\n    <tr>\n      <th>19</th>\n      <td>20</td>\n      <td>Fisika</td>\n      <td>99</td>\n      <td>perempuan</td>\n      <td>12C</td>\n    </tr>\n  </tbody>\n</table>\n</div>"
     },
     "metadata": {},
     "execution_count": 42
    }
   ],
   "source": [
    "# code here\n",
    "df[(df['pelajaran'] == 'Ekonomi') | (df['pelajaran'] == 'Fisika')]"
   ]
  },
  {
   "cell_type": "code",
   "execution_count": 43,
   "metadata": {},
   "outputs": [
    {
     "output_type": "execute_result",
     "data": {
      "text/plain": "    siswa_id pelajaran  nilai jenis-kelamin kelas\n8          9     Kimia     91     perempuan   12A\n17        18     Kimia     89     perempuan   12C",
      "text/html": "<div>\n<style scoped>\n    .dataframe tbody tr th:only-of-type {\n        vertical-align: middle;\n    }\n\n    .dataframe tbody tr th {\n        vertical-align: top;\n    }\n\n    .dataframe thead th {\n        text-align: right;\n    }\n</style>\n<table border=\"1\" class=\"dataframe\">\n  <thead>\n    <tr style=\"text-align: right;\">\n      <th></th>\n      <th>siswa_id</th>\n      <th>pelajaran</th>\n      <th>nilai</th>\n      <th>jenis-kelamin</th>\n      <th>kelas</th>\n    </tr>\n  </thead>\n  <tbody>\n    <tr>\n      <th>8</th>\n      <td>9</td>\n      <td>Kimia</td>\n      <td>91</td>\n      <td>perempuan</td>\n      <td>12A</td>\n    </tr>\n    <tr>\n      <th>17</th>\n      <td>18</td>\n      <td>Kimia</td>\n      <td>89</td>\n      <td>perempuan</td>\n      <td>12C</td>\n    </tr>\n  </tbody>\n</table>\n</div>"
     },
     "metadata": {},
     "execution_count": 43
    }
   ],
   "source": [
    "df[(df['pelajaran'] == 'Kimia') & (df['nilai'] > 50)]"
   ]
  },
  {
   "cell_type": "code",
   "execution_count": 44,
   "metadata": {},
   "outputs": [
    {
     "output_type": "execute_result",
     "data": {
      "text/plain": "    siswa_id pelajaran  nilai jenis-kelamin kelas\n17        18     Kimia     89     perempuan   12C\n19        20    Fisika     99     perempuan   12C",
      "text/html": "<div>\n<style scoped>\n    .dataframe tbody tr th:only-of-type {\n        vertical-align: middle;\n    }\n\n    .dataframe tbody tr th {\n        vertical-align: top;\n    }\n\n    .dataframe thead th {\n        text-align: right;\n    }\n</style>\n<table border=\"1\" class=\"dataframe\">\n  <thead>\n    <tr style=\"text-align: right;\">\n      <th></th>\n      <th>siswa_id</th>\n      <th>pelajaran</th>\n      <th>nilai</th>\n      <th>jenis-kelamin</th>\n      <th>kelas</th>\n    </tr>\n  </thead>\n  <tbody>\n    <tr>\n      <th>17</th>\n      <td>18</td>\n      <td>Kimia</td>\n      <td>89</td>\n      <td>perempuan</td>\n      <td>12C</td>\n    </tr>\n    <tr>\n      <th>19</th>\n      <td>20</td>\n      <td>Fisika</td>\n      <td>99</td>\n      <td>perempuan</td>\n      <td>12C</td>\n    </tr>\n  </tbody>\n</table>\n</div>"
     },
     "metadata": {},
     "execution_count": 44
    }
   ],
   "source": [
    "df[(df['nilai'] > 70) & (df['jenis-kelamin'] == 'perempuan') & (df['kelas'] == '12C')]"
   ]
  },
  {
   "cell_type": "markdown",
   "metadata": {},
   "source": [
    "<h2>Quiz 3 : Data Transformation</h2>\n",
    "\n",
    "lakukan data transformasi terhadap column 'nilai' dengan fungsi transformasi, berikut rumus dari normalisasi\n",
    "\n",
    "![title](image/day2-1.png)\n",
    "![title](image/day2-2.png)\n"
   ]
  },
  {
   "cell_type": "code",
   "execution_count": 18,
   "metadata": {},
   "outputs": [
    {
     "output_type": "execute_result",
     "data": {
      "text/plain": "   siswa_id   pelajaran  nilai jenis-kelamin kelas  nilai_sklearn  \\\n0         1     Biologi     30     perempuan   12D         0.3250   \n1         2      Fisika     84     perempuan   12D         1.0000   \n2         3  Matematika     15     perempuan   12B         0.1375   \n3         4       Kimia     35     laki-laki   12C         0.3875   \n4         5     Biologi     12     laki-laki   12C         0.1000   \n\n   nilai_normalized  \n0         -3.690476  \n1         -3.047619  \n2         -3.869048  \n3         -3.630952  \n4         -3.904762  ",
      "text/html": "<div>\n<style scoped>\n    .dataframe tbody tr th:only-of-type {\n        vertical-align: middle;\n    }\n\n    .dataframe tbody tr th {\n        vertical-align: top;\n    }\n\n    .dataframe thead th {\n        text-align: right;\n    }\n</style>\n<table border=\"1\" class=\"dataframe\">\n  <thead>\n    <tr style=\"text-align: right;\">\n      <th></th>\n      <th>siswa_id</th>\n      <th>pelajaran</th>\n      <th>nilai</th>\n      <th>jenis-kelamin</th>\n      <th>kelas</th>\n      <th>nilai_sklearn</th>\n      <th>nilai_normalized</th>\n    </tr>\n  </thead>\n  <tbody>\n    <tr>\n      <th>0</th>\n      <td>1</td>\n      <td>Biologi</td>\n      <td>30</td>\n      <td>perempuan</td>\n      <td>12D</td>\n      <td>0.3250</td>\n      <td>-3.690476</td>\n    </tr>\n    <tr>\n      <th>1</th>\n      <td>2</td>\n      <td>Fisika</td>\n      <td>84</td>\n      <td>perempuan</td>\n      <td>12D</td>\n      <td>1.0000</td>\n      <td>-3.047619</td>\n    </tr>\n    <tr>\n      <th>2</th>\n      <td>3</td>\n      <td>Matematika</td>\n      <td>15</td>\n      <td>perempuan</td>\n      <td>12B</td>\n      <td>0.1375</td>\n      <td>-3.869048</td>\n    </tr>\n    <tr>\n      <th>3</th>\n      <td>4</td>\n      <td>Kimia</td>\n      <td>35</td>\n      <td>laki-laki</td>\n      <td>12C</td>\n      <td>0.3875</td>\n      <td>-3.630952</td>\n    </tr>\n    <tr>\n      <th>4</th>\n      <td>5</td>\n      <td>Biologi</td>\n      <td>12</td>\n      <td>laki-laki</td>\n      <td>12C</td>\n      <td>0.1000</td>\n      <td>-3.904762</td>\n    </tr>\n  </tbody>\n</table>\n</div>"
     },
     "metadata": {},
     "execution_count": 18
    }
   ],
   "source": [
    "# code here\n",
    "df['nilai_normalized'] = df['nilai'].apply(lambda x : (x - df['nilai'].min()) / df['nilai'].max() - df['nilai'].min())\n",
    "df.head()"
   ]
  }
 ],
 "metadata": {
  "kernelspec": {
   "display_name": "Python 3",
   "language": "python",
   "name": "python3"
  },
  "language_info": {
   "codemirror_mode": {
    "name": "ipython",
    "version": 3
   },
   "file_extension": ".py",
   "mimetype": "text/x-python",
   "name": "python",
   "nbconvert_exporter": "python",
   "pygments_lexer": "ipython3",
   "version": "3.7.7-final"
  }
 },
 "nbformat": 4,
 "nbformat_minor": 4
}